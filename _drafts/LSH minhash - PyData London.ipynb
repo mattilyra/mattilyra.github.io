{
 "cells": [
  {
   "cell_type": "markdown",
   "metadata": {
    "slideshow": {
     "slide_type": "slide"
    }
   },
   "source": [
    "<center>\n",
    "<h1>Deduplicating document collections</h1>\n",
    "</center>\n",
    "-----------------------------------------------\n",
    "## github.com/mattilyra/lsh\n",
    "\n",
    "### Matti Lyra\n",
    "\n",
    "### @mattilyra"
   ]
  },
  {
   "cell_type": "markdown",
   "metadata": {
    "slideshow": {
     "slide_type": "notes"
    }
   },
   "source": [
    "This talk is about finding documents that are duplicates of each other, I hope to convince you that this is\n",
    "- _not_ a trivial task\n",
    "- _not_ necessarily a classification task\n",
    "- definition of duplicate is application dependant\n",
    "- possible to do with fairly simple tools"
   ]
  },
  {
   "cell_type": "markdown",
   "metadata": {
    "slideshow": {
     "slide_type": "subslide"
    }
   },
   "source": [
    "<center>\n",
    "<h1>\"What is the best book ever made?\"</h1>\n",
    "</center>"
   ]
  },
  {
   "cell_type": "markdown",
   "metadata": {
    "slideshow": {
     "slide_type": "fragment"
    }
   },
   "source": [
    "<center>\n",
    "<br/>\n",
    "<h2>\"What is the most important book you have ever read?\"</h2>\n",
    "</center>"
   ]
  },
  {
   "cell_type": "markdown",
   "metadata": {
    "slideshow": {
     "slide_type": "slide"
    }
   },
   "source": [
    "# Duplicate documents?\n",
    "\n",
    "- stackoverflow.com (similar questions) (https://stackoverflow.blog/2009/04/29/handling-duplicate-questions/)\n",
    "    - cut'n'paste duplicates (md5)\n",
    "    - accidental duplicates\n",
    "\n",
    "- Quora similar questions (https://www.kaggle.com/c/quora-question-pairs)\n",
    "- Editorial Corrections in news\n",
    "- Content Marketing\n",
    "    - the same, or close to the same, content being pushed out to content federation networks\n",
    "    - medium, slashdot, reddit"
   ]
  },
  {
   "cell_type": "markdown",
   "metadata": {
    "slideshow": {
     "slide_type": "slide"
    }
   },
   "source": [
    "# Some Examples"
   ]
  },
  {
   "cell_type": "markdown",
   "metadata": {
    "slideshow": {
     "slide_type": "subslide"
    }
   },
   "source": [
    "## RCV1 (Reuters Corpus V1)\n",
    "\n",
    "\n",
    "\n",
    "\n",
    "\n",
    "![](./gfx/RCV1-dup_01.png)"
   ]
  },
  {
   "cell_type": "markdown",
   "metadata": {
    "slideshow": {
     "slide_type": "subslide"
    }
   },
   "source": [
    "> \"How can I be a good geologist?\" ` == ` \"What should I do to be a great geologist?\""
   ]
  },
  {
   "cell_type": "markdown",
   "metadata": {
    "ExecuteTime": {
     "end_time": "2018-04-08T18:20:00.142506Z",
     "start_time": "2018-04-08T20:20:00.130449+02:00"
    },
    "slideshow": {
     "slide_type": "subslide"
    }
   },
   "source": [
    "> \"What are the best ways to learn French?\" ` == ` \"How do I learn french genders?\""
   ]
  },
  {
   "cell_type": "markdown",
   "metadata": {
    "slideshow": {
     "slide_type": "subslide"
    }
   },
   "source": [
    "# Why is it a problem?\n",
    "\n",
    "- skewed distribution\n",
    "    - document level\n",
    "    - token level\n",
    "- inconsistent document labels\n",
    "    - PyData Berlin 2018 reviews\n",
    "    - wasted annotation effort\n",
    "- increased algorithm training time"
   ]
  },
  {
   "cell_type": "markdown",
   "metadata": {
    "slideshow": {
     "slide_type": "subslide"
    }
   },
   "source": [
    "# Possible approaches\n",
    "\n",
    "- treat deduplication as a classification task (Kaggle Quora)\n",
    "- embed documents into a \"semantic\" vector space\n",
    "    - word mover's distance\n",
    "    - add / multiply word vectors together (plus Nearest Neighbours search)\n",
    "    - ... or a bastardised version of \"semantic\" space (this talk)\n",
    "\n",
    "Both of the above require comparisons between all pairs"
   ]
  },
  {
   "cell_type": "code",
   "execution_count": 17,
   "metadata": {
    "ExecuteTime": {
     "end_time": "2018-04-15T10:14:29.343709Z",
     "start_time": "2018-04-15T12:14:29.339177+02:00"
    },
    "slideshow": {
     "slide_type": "skip"
    }
   },
   "outputs": [
    {
     "data": {
      "text/plain": [
       "27.77777777777778"
      ]
     },
     "execution_count": 17,
     "metadata": {},
     "output_type": "execute_result"
    }
   ],
   "source": [
    "# 100 ms per comparison, including vector lookups etc. etc.\n",
    "\n",
    "(1000 ** 2 * 100) / 1000 / 60 / 60"
   ]
  },
  {
   "cell_type": "code",
   "execution_count": 18,
   "metadata": {
    "ExecuteTime": {
     "end_time": "2018-04-15T10:14:32.717485Z",
     "start_time": "2018-04-15T12:14:32.713788+02:00"
    },
    "slideshow": {
     "slide_type": "skip"
    }
   },
   "outputs": [
    {
     "data": {
      "text/plain": [
       "111.11111111111111"
      ]
     },
     "execution_count": 18,
     "metadata": {},
     "output_type": "execute_result"
    }
   ],
   "source": [
    "# 100 ms per comparison, including vector lookups etc. etc.\n",
    "\n",
    "(2000 ** 2 * 100) / 1000 / 60 / 60"
   ]
  },
  {
   "cell_type": "code",
   "execution_count": 20,
   "metadata": {
    "ExecuteTime": {
     "end_time": "2018-04-15T10:15:00.459851Z",
     "start_time": "2018-04-15T12:15:00.455980+02:00"
    },
    "slideshow": {
     "slide_type": "skip"
    }
   },
   "outputs": [
    {
     "data": {
      "text/plain": [
       "(2777.777777777778, 115.74074074074075)"
      ]
     },
     "execution_count": 20,
     "metadata": {},
     "output_type": "execute_result"
    }
   ],
   "source": [
    "# 100 ms per comparison, including vector lookups etc. etc.\n",
    "\n",
    "(10000 ** 2 * 100) / 1000 / 60 / 60, (10000 ** 2 * 100) / 1000 / 60 / 60 / 24"
   ]
  },
  {
   "cell_type": "markdown",
   "metadata": {
    "slideshow": {
     "slide_type": "subslide"
    }
   },
   "source": [
    "# Roofing and Paul Jaccard\n",
    "\n",
    "![](./gfx/610px-Heinola_paanukatto.jpg)"
   ]
  },
  {
   "cell_type": "markdown",
   "metadata": {
    "slideshow": {
     "slide_type": "subslide"
    }
   },
   "source": [
    "## Shingles and Jaccard similarity\n",
    "### partially overlapping bits of text\n",
    "\n",
    "\n",
    "A worked example of shingling and Jaccard with examples to show that it isn't all that unreasonable as a method for document similarity."
   ]
  },
  {
   "cell_type": "code",
   "execution_count": 31,
   "metadata": {
    "ExecuteTime": {
     "end_time": "2018-04-15T10:21:29.157080Z",
     "start_time": "2018-04-15T12:21:29.151292+02:00"
    },
    "slideshow": {
     "slide_type": "slide"
    }
   },
   "outputs": [
    {
     "data": {
      "text/plain": [
       "{' cat s',\n",
       " ' on th',\n",
       " ' sat o',\n",
       " ' the m',\n",
       " 'at on ',\n",
       " 'at sat',\n",
       " 'cat sa',\n",
       " 'e cat ',\n",
       " 'he cat',\n",
       " 'n the ',\n",
       " 'on the',\n",
       " 'sat on',\n",
       " 't on t',\n",
       " 't sat ',\n",
       " 'the ca',\n",
       " 'the ma'}"
      ]
     },
     "execution_count": 31,
     "metadata": {},
     "output_type": "execute_result"
    }
   ],
   "source": [
    "def shingles(text, char_ngram=6):\n",
    "    \"\"\"Given a string, return partially overlapping character ngrams.\"\"\"\n",
    "    return set(text[head:head + char_ngram] for head in range(0, len(text) - char_ngram))\n",
    "\n",
    "shingles('the cat sat on the mat')"
   ]
  },
  {
   "cell_type": "markdown",
   "metadata": {
    "slideshow": {
     "slide_type": "subslide"
    }
   },
   "source": [
    "## RCV1 (Jaccard = ~89%, ngram=6)\n",
    "\n",
    "\n",
    "\n",
    "\n",
    "\n",
    "![](./gfx/RCV1-dup_01.png)"
   ]
  },
  {
   "cell_type": "code",
   "execution_count": 5,
   "metadata": {
    "ExecuteTime": {
     "end_time": "2018-04-08T18:20:00.142506Z",
     "start_time": "2018-04-08T20:20:00.130449+02:00"
    },
    "slideshow": {
     "slide_type": "subslide"
    }
   },
   "outputs": [
    {
     "data": {
      "text/plain": [
       "0.17307692307692307"
      ]
     },
     "execution_count": 5,
     "metadata": {},
     "output_type": "execute_result"
    }
   ],
   "source": [
    "# duplicate = yes\n",
    "\n",
    "q1 = \"How can I be a good geologist?\"\n",
    "q2 = \"What should I do to be a great geologist?\"\n",
    "\n",
    "def shingles(text, char_ngram=5):\n",
    "    \"\"\"Given a string, return partially overlapping character ngrams.\"\"\"\n",
    "    return set(text[head:head + char_ngram] for head in range(0, len(text) - char_ngram))\n",
    "\n",
    "len(shingles(q1) & shingles(q2)) / len(shingles(q1) | shingles(q2))"
   ]
  },
  {
   "cell_type": "code",
   "execution_count": 7,
   "metadata": {
    "ExecuteTime": {
     "end_time": "2018-04-08T18:22:12.298997Z",
     "start_time": "2018-04-08T20:22:12.294821+02:00"
    },
    "slideshow": {
     "slide_type": "subslide"
    }
   },
   "outputs": [
    {
     "data": {
      "text/plain": [
       "0.29936305732484075"
      ]
     },
     "execution_count": 7,
     "metadata": {},
     "output_type": "execute_result"
    }
   ],
   "source": [
    "# duplicate = yes\n",
    "\n",
    "q1 = \"I was suddenly logged off Gmail. I can't remember my Gmail password and just realized the recovery email is no longer alive. What can I do?\"\n",
    "q2 = \"I can't remember my Gmail password or my recovery email. How can I recover my e-mail?\"\n",
    "\n",
    "len(shingles(q1) & shingles(q2)) / len(shingles(q1) | shingles(q2))"
   ]
  },
  {
   "cell_type": "code",
   "execution_count": 12,
   "metadata": {
    "ExecuteTime": {
     "end_time": "2018-04-15T10:05:04.794239Z",
     "start_time": "2018-04-15T12:05:04.790121+02:00"
    },
    "slideshow": {
     "slide_type": "subslide"
    }
   },
   "outputs": [
    {
     "data": {
      "text/plain": [
       "0.07272727272727272"
      ]
     },
     "execution_count": 12,
     "metadata": {},
     "output_type": "execute_result"
    }
   ],
   "source": [
    "# duplicate = no\n",
    "\n",
    "q1 = \"What are the best ways to learn French?\"\n",
    "q2 = \"How do I learn french genders?\"\n",
    "\n",
    "len(shingles(q1) & shingles(q2)) / len(shingles(q1) | shingles(q2))"
   ]
  },
  {
   "cell_type": "code",
   "execution_count": 55,
   "metadata": {
    "ExecuteTime": {
     "end_time": "2018-04-15T10:39:11.083149Z",
     "start_time": "2018-04-15T12:39:11.072037+02:00"
    },
    "slideshow": {
     "slide_type": "skip"
    }
   },
   "outputs": [],
   "source": [
    "import pandas as pd\n",
    "\n",
    "questions = pd.read_csv('/usr/local/scratch/data/quora/quora_duplicate_questions.tsv', sep='\\t', converters={'question1': str, 'question2': str},\n",
    "                        nrows=5000, index_col='id')"
   ]
  },
  {
   "cell_type": "code",
   "execution_count": 56,
   "metadata": {
    "ExecuteTime": {
     "end_time": "2018-04-15T10:39:12.100283Z",
     "start_time": "2018-04-15T12:39:12.098382+02:00"
    },
    "collapsed": true,
    "slideshow": {
     "slide_type": "skip"
    }
   },
   "outputs": [],
   "source": [
    "def jaccard(s1, s2):\n",
    "    return len(s1 & s2) / (len(s1 | s2) + 1e-15)"
   ]
  },
  {
   "cell_type": "code",
   "execution_count": 57,
   "metadata": {
    "ExecuteTime": {
     "end_time": "2018-04-15T10:39:12.551921Z",
     "start_time": "2018-04-15T12:39:12.250730+02:00"
    },
    "slideshow": {
     "slide_type": "skip"
    }
   },
   "outputs": [],
   "source": [
    "def sim(row):\n",
    "    return jaccard(shingles(row['question1']), shingles(row['question2']))\n",
    "\n",
    "questions['jaccard'] = questions.apply(sim, axis=1)"
   ]
  },
  {
   "cell_type": "code",
   "execution_count": 60,
   "metadata": {
    "ExecuteTime": {
     "end_time": "2018-04-15T10:39:36.555447Z",
     "start_time": "2018-04-15T12:39:36.527946+02:00"
    },
    "scrolled": true,
    "slideshow": {
     "slide_type": "skip"
    }
   },
   "outputs": [
    {
     "data": {
      "text/html": [
       "<div>\n",
       "<style>\n",
       "    .dataframe thead tr:only-child th {\n",
       "        text-align: right;\n",
       "    }\n",
       "\n",
       "    .dataframe thead th {\n",
       "        text-align: left;\n",
       "    }\n",
       "\n",
       "    .dataframe tbody tr th {\n",
       "        vertical-align: top;\n",
       "    }\n",
       "</style>\n",
       "<table border=\"1\" class=\"dataframe\">\n",
       "  <thead>\n",
       "    <tr style=\"text-align: right;\">\n",
       "      <th></th>\n",
       "      <th>qid1</th>\n",
       "      <th>qid2</th>\n",
       "      <th>question1</th>\n",
       "      <th>question2</th>\n",
       "      <th>is_duplicate</th>\n",
       "      <th>jaccard</th>\n",
       "    </tr>\n",
       "    <tr>\n",
       "      <th>id</th>\n",
       "      <th></th>\n",
       "      <th></th>\n",
       "      <th></th>\n",
       "      <th></th>\n",
       "      <th></th>\n",
       "      <th></th>\n",
       "    </tr>\n",
       "  </thead>\n",
       "  <tbody>\n",
       "    <tr>\n",
       "      <th>16</th>\n",
       "      <td>33</td>\n",
       "      <td>34</td>\n",
       "      <td>What does manipulation mean?</td>\n",
       "      <td>What does manipulation means?</td>\n",
       "      <td>1</td>\n",
       "      <td>0.956522</td>\n",
       "    </tr>\n",
       "    <tr>\n",
       "      <th>13</th>\n",
       "      <td>27</td>\n",
       "      <td>28</td>\n",
       "      <td>What was your first sexual experience like?</td>\n",
       "      <td>What was your first sexual experience?</td>\n",
       "      <td>1</td>\n",
       "      <td>0.864865</td>\n",
       "    </tr>\n",
       "    <tr>\n",
       "      <th>0</th>\n",
       "      <td>1</td>\n",
       "      <td>2</td>\n",
       "      <td>What is the step by step guide to invest in sh...</td>\n",
       "      <td>What is the step by step guide to invest in sh...</td>\n",
       "      <td>0</td>\n",
       "      <td>0.847458</td>\n",
       "    </tr>\n",
       "    <tr>\n",
       "      <th>14</th>\n",
       "      <td>29</td>\n",
       "      <td>30</td>\n",
       "      <td>What are the laws to change your status from a...</td>\n",
       "      <td>What are the laws to change your status from a...</td>\n",
       "      <td>0</td>\n",
       "      <td>0.816327</td>\n",
       "    </tr>\n",
       "    <tr>\n",
       "      <th>25</th>\n",
       "      <td>51</td>\n",
       "      <td>52</td>\n",
       "      <td>What are some tips on making it through the jo...</td>\n",
       "      <td>What are some tips on making it through the jo...</td>\n",
       "      <td>0</td>\n",
       "      <td>0.772727</td>\n",
       "    </tr>\n",
       "    <tr>\n",
       "      <th>41</th>\n",
       "      <td>83</td>\n",
       "      <td>84</td>\n",
       "      <td>When can I expect my Cognizant confirmation mail?</td>\n",
       "      <td>When can I expect Cognizant confirmation mail?</td>\n",
       "      <td>0</td>\n",
       "      <td>0.765957</td>\n",
       "    </tr>\n",
       "    <tr>\n",
       "      <th>34</th>\n",
       "      <td>69</td>\n",
       "      <td>70</td>\n",
       "      <td>What is the best travel website in spain?</td>\n",
       "      <td>What is the best travel website?</td>\n",
       "      <td>0</td>\n",
       "      <td>0.742857</td>\n",
       "    </tr>\n",
       "    <tr>\n",
       "      <th>44</th>\n",
       "      <td>89</td>\n",
       "      <td>90</td>\n",
       "      <td>What universities does Rexnord recruit new gra...</td>\n",
       "      <td>What universities does B&amp;G Foods recruit new g...</td>\n",
       "      <td>0</td>\n",
       "      <td>0.729167</td>\n",
       "    </tr>\n",
       "    <tr>\n",
       "      <th>42</th>\n",
       "      <td>85</td>\n",
       "      <td>86</td>\n",
       "      <td>Can I make 50,000 a month by day trading?</td>\n",
       "      <td>Can I make 30,000 a month by day trading?</td>\n",
       "      <td>0</td>\n",
       "      <td>0.707317</td>\n",
       "    </tr>\n",
       "    <tr>\n",
       "      <th>19</th>\n",
       "      <td>39</td>\n",
       "      <td>40</td>\n",
       "      <td>Which is the best digital marketing institutio...</td>\n",
       "      <td>Which is the best digital marketing institute ...</td>\n",
       "      <td>0</td>\n",
       "      <td>0.619048</td>\n",
       "    </tr>\n",
       "    <tr>\n",
       "      <th>28</th>\n",
       "      <td>57</td>\n",
       "      <td>58</td>\n",
       "      <td>What is best way to make money online?</td>\n",
       "      <td>What is best way to ask for money online?</td>\n",
       "      <td>0</td>\n",
       "      <td>0.522727</td>\n",
       "    </tr>\n",
       "    <tr>\n",
       "      <th>8</th>\n",
       "      <td>17</td>\n",
       "      <td>18</td>\n",
       "      <td>When do you use シ instead of し?</td>\n",
       "      <td>When do you use \"&amp;\" instead of \"and\"?</td>\n",
       "      <td>0</td>\n",
       "      <td>0.473684</td>\n",
       "    </tr>\n",
       "    <tr>\n",
       "      <th>32</th>\n",
       "      <td>65</td>\n",
       "      <td>66</td>\n",
       "      <td>What Game of Thrones villain would be the most...</td>\n",
       "      <td>What Game of Thrones villain would you most li...</td>\n",
       "      <td>1</td>\n",
       "      <td>0.408602</td>\n",
       "    </tr>\n",
       "    <tr>\n",
       "      <th>26</th>\n",
       "      <td>53</td>\n",
       "      <td>54</td>\n",
       "      <td>What is web application?</td>\n",
       "      <td>What is the web application framework?</td>\n",
       "      <td>0</td>\n",
       "      <td>0.388889</td>\n",
       "    </tr>\n",
       "    <tr>\n",
       "      <th>49</th>\n",
       "      <td>99</td>\n",
       "      <td>100</td>\n",
       "      <td>How do I make friends.</td>\n",
       "      <td>How to make friends ?</td>\n",
       "      <td>1</td>\n",
       "      <td>0.347826</td>\n",
       "    </tr>\n",
       "    <tr>\n",
       "      <th>12</th>\n",
       "      <td>25</td>\n",
       "      <td>26</td>\n",
       "      <td>What can make Physics easy to learn?</td>\n",
       "      <td>How can you make physics easy to learn?</td>\n",
       "      <td>1</td>\n",
       "      <td>0.340426</td>\n",
       "    </tr>\n",
       "    <tr>\n",
       "      <th>48</th>\n",
       "      <td>97</td>\n",
       "      <td>98</td>\n",
       "      <td>What are some examples of products that can be...</td>\n",
       "      <td>What are some of the products made from crude ...</td>\n",
       "      <td>1</td>\n",
       "      <td>0.312500</td>\n",
       "    </tr>\n",
       "    <tr>\n",
       "      <th>30</th>\n",
       "      <td>61</td>\n",
       "      <td>62</td>\n",
       "      <td>What's one thing you would like to do better?</td>\n",
       "      <td>What's one thing you do despite knowing better?</td>\n",
       "      <td>0</td>\n",
       "      <td>0.290323</td>\n",
       "    </tr>\n",
       "    <tr>\n",
       "      <th>29</th>\n",
       "      <td>59</td>\n",
       "      <td>60</td>\n",
       "      <td>How should I prepare for CA final law?</td>\n",
       "      <td>How one should know that he/she completely pre...</td>\n",
       "      <td>1</td>\n",
       "      <td>0.266667</td>\n",
       "    </tr>\n",
       "    <tr>\n",
       "      <th>22</th>\n",
       "      <td>45</td>\n",
       "      <td>46</td>\n",
       "      <td>What are the questions should not ask on Quora?</td>\n",
       "      <td>Which question should I ask on Quora?</td>\n",
       "      <td>0</td>\n",
       "      <td>0.263158</td>\n",
       "    </tr>\n",
       "    <tr>\n",
       "      <th>45</th>\n",
       "      <td>91</td>\n",
       "      <td>92</td>\n",
       "      <td>What is the quickest way to increase Instagram...</td>\n",
       "      <td>How can we increase our number of Instagram fo...</td>\n",
       "      <td>0</td>\n",
       "      <td>0.253165</td>\n",
       "    </tr>\n",
       "    <tr>\n",
       "      <th>38</th>\n",
       "      <td>77</td>\n",
       "      <td>78</td>\n",
       "      <td>How do we prepare for UPSC?</td>\n",
       "      <td>How do I prepare for civil service?</td>\n",
       "      <td>1</td>\n",
       "      <td>0.250000</td>\n",
       "    </tr>\n",
       "    <tr>\n",
       "      <th>1</th>\n",
       "      <td>3</td>\n",
       "      <td>4</td>\n",
       "      <td>What is the story of Kohinoor (Koh-i-Noor) Dia...</td>\n",
       "      <td>What would happen if the Indian government sto...</td>\n",
       "      <td>0</td>\n",
       "      <td>0.175926</td>\n",
       "    </tr>\n",
       "    <tr>\n",
       "      <th>5</th>\n",
       "      <td>11</td>\n",
       "      <td>12</td>\n",
       "      <td>Astrology: I am a Capricorn Sun Cap moon and c...</td>\n",
       "      <td>I'm a triple Capricorn (Sun, Moon and ascendan...</td>\n",
       "      <td>1</td>\n",
       "      <td>0.169118</td>\n",
       "    </tr>\n",
       "    <tr>\n",
       "      <th>9</th>\n",
       "      <td>19</td>\n",
       "      <td>20</td>\n",
       "      <td>Motorola (company): Can I hack my Charter Moto...</td>\n",
       "      <td>How do I hack Motorola DCX3400 for free internet?</td>\n",
       "      <td>0</td>\n",
       "      <td>0.158537</td>\n",
       "    </tr>\n",
       "    <tr>\n",
       "      <th>11</th>\n",
       "      <td>23</td>\n",
       "      <td>24</td>\n",
       "      <td>How do I read and find my YouTube comments?</td>\n",
       "      <td>How can I see all my Youtube comments?</td>\n",
       "      <td>1</td>\n",
       "      <td>0.150000</td>\n",
       "    </tr>\n",
       "    <tr>\n",
       "      <th>7</th>\n",
       "      <td>15</td>\n",
       "      <td>16</td>\n",
       "      <td>How can I be a good geologist?</td>\n",
       "      <td>What should I do to be a great geologist?</td>\n",
       "      <td>1</td>\n",
       "      <td>0.134615</td>\n",
       "    </tr>\n",
       "    <tr>\n",
       "      <th>15</th>\n",
       "      <td>31</td>\n",
       "      <td>32</td>\n",
       "      <td>What would a Trump presidency mean for current...</td>\n",
       "      <td>How will a Trump presidency affect the student...</td>\n",
       "      <td>1</td>\n",
       "      <td>0.133333</td>\n",
       "    </tr>\n",
       "    <tr>\n",
       "      <th>36</th>\n",
       "      <td>73</td>\n",
       "      <td>74</td>\n",
       "      <td>I'm a 19-year-old. How can I improve my skills...</td>\n",
       "      <td>I am a 19 year old guy. How can I become a bil...</td>\n",
       "      <td>0</td>\n",
       "      <td>0.132911</td>\n",
       "    </tr>\n",
       "    <tr>\n",
       "      <th>2</th>\n",
       "      <td>5</td>\n",
       "      <td>6</td>\n",
       "      <td>How can I increase the speed of my internet co...</td>\n",
       "      <td>How can Internet speed be increased by hacking...</td>\n",
       "      <td>0</td>\n",
       "      <td>0.121495</td>\n",
       "    </tr>\n",
       "    <tr>\n",
       "      <th>18</th>\n",
       "      <td>37</td>\n",
       "      <td>38</td>\n",
       "      <td>Why are so many Quora users posting questions ...</td>\n",
       "      <td>Why do people ask Quora questions which can be...</td>\n",
       "      <td>1</td>\n",
       "      <td>0.117188</td>\n",
       "    </tr>\n",
       "    <tr>\n",
       "      <th>20</th>\n",
       "      <td>41</td>\n",
       "      <td>42</td>\n",
       "      <td>Why do rockets look white?</td>\n",
       "      <td>Why are rockets and boosters painted white?</td>\n",
       "      <td>1</td>\n",
       "      <td>0.096154</td>\n",
       "    </tr>\n",
       "    <tr>\n",
       "      <th>21</th>\n",
       "      <td>43</td>\n",
       "      <td>44</td>\n",
       "      <td>What's causing someone to be jealous?</td>\n",
       "      <td>What can I do to avoid being jealous of someone?</td>\n",
       "      <td>0</td>\n",
       "      <td>0.089552</td>\n",
       "    </tr>\n",
       "    <tr>\n",
       "      <th>27</th>\n",
       "      <td>55</td>\n",
       "      <td>56</td>\n",
       "      <td>Does society place too much importance on sports?</td>\n",
       "      <td>How do sports contribute to the society?</td>\n",
       "      <td>0</td>\n",
       "      <td>0.069444</td>\n",
       "    </tr>\n",
       "    <tr>\n",
       "      <th>35</th>\n",
       "      <td>71</td>\n",
       "      <td>72</td>\n",
       "      <td>Why do some people think Obama will try to tak...</td>\n",
       "      <td>Has there been a gun control initiative to tak...</td>\n",
       "      <td>0</td>\n",
       "      <td>0.066116</td>\n",
       "    </tr>\n",
       "    <tr>\n",
       "      <th>43</th>\n",
       "      <td>87</td>\n",
       "      <td>88</td>\n",
       "      <td>Is being a good kid and not being a rebel wort...</td>\n",
       "      <td>Is being bored good for a kid?</td>\n",
       "      <td>0</td>\n",
       "      <td>0.065789</td>\n",
       "    </tr>\n",
       "    <tr>\n",
       "      <th>31</th>\n",
       "      <td>63</td>\n",
       "      <td>64</td>\n",
       "      <td>What are some special cares for someone with a...</td>\n",
       "      <td>How can I keep my nose from getting stuffy at ...</td>\n",
       "      <td>1</td>\n",
       "      <td>0.041322</td>\n",
       "    </tr>\n",
       "    <tr>\n",
       "      <th>37</th>\n",
       "      <td>75</td>\n",
       "      <td>76</td>\n",
       "      <td>When a girlfriend asks her boyfriend \"Why did ...</td>\n",
       "      <td>My girlfriend said that we should end this bec...</td>\n",
       "      <td>0</td>\n",
       "      <td>0.037288</td>\n",
       "    </tr>\n",
       "    <tr>\n",
       "      <th>4</th>\n",
       "      <td>9</td>\n",
       "      <td>10</td>\n",
       "      <td>Which one dissolve in water quikly sugar, salt...</td>\n",
       "      <td>Which fish would survive in salt water?</td>\n",
       "      <td>0</td>\n",
       "      <td>0.030000</td>\n",
       "    </tr>\n",
       "    <tr>\n",
       "      <th>40</th>\n",
       "      <td>81</td>\n",
       "      <td>82</td>\n",
       "      <td>Why do Slavs squat?</td>\n",
       "      <td>Will squats make my legs thicker?</td>\n",
       "      <td>0</td>\n",
       "      <td>0.025641</td>\n",
       "    </tr>\n",
       "    <tr>\n",
       "      <th>17</th>\n",
       "      <td>35</td>\n",
       "      <td>36</td>\n",
       "      <td>Why do girls want to be friends with the guy t...</td>\n",
       "      <td>How do guys feel after rejecting a girl?</td>\n",
       "      <td>0</td>\n",
       "      <td>0.024096</td>\n",
       "    </tr>\n",
       "    <tr>\n",
       "      <th>47</th>\n",
       "      <td>95</td>\n",
       "      <td>96</td>\n",
       "      <td>What are the stages of breaking up between cou...</td>\n",
       "      <td>Who is affected more by a breakup, the boy or ...</td>\n",
       "      <td>0</td>\n",
       "      <td>0.017964</td>\n",
       "    </tr>\n",
       "    <tr>\n",
       "      <th>24</th>\n",
       "      <td>49</td>\n",
       "      <td>50</td>\n",
       "      <td>What does it mean that every time I look at th...</td>\n",
       "      <td>How many times a day do a clock’s hands overlap?</td>\n",
       "      <td>0</td>\n",
       "      <td>0.017699</td>\n",
       "    </tr>\n",
       "    <tr>\n",
       "      <th>39</th>\n",
       "      <td>79</td>\n",
       "      <td>80</td>\n",
       "      <td>What is the stall speed and AOA of an f-14 wit...</td>\n",
       "      <td>Why did aircraft stop using variable-sweep win...</td>\n",
       "      <td>0</td>\n",
       "      <td>0.007692</td>\n",
       "    </tr>\n",
       "    <tr>\n",
       "      <th>33</th>\n",
       "      <td>67</td>\n",
       "      <td>68</td>\n",
       "      <td>Does the United States government still blackl...</td>\n",
       "      <td>How is the average speed of gas molecules dete...</td>\n",
       "      <td>0</td>\n",
       "      <td>0.006410</td>\n",
       "    </tr>\n",
       "    <tr>\n",
       "      <th>3</th>\n",
       "      <td>7</td>\n",
       "      <td>8</td>\n",
       "      <td>Why am I mentally very lonely? How can I solve...</td>\n",
       "      <td>Find the remainder when [math]23^{24}[/math] i...</td>\n",
       "      <td>0</td>\n",
       "      <td>0.000000</td>\n",
       "    </tr>\n",
       "    <tr>\n",
       "      <th>23</th>\n",
       "      <td>47</td>\n",
       "      <td>48</td>\n",
       "      <td>How much is 30 kV in HP?</td>\n",
       "      <td>Where can I find a conversion chart for CC to ...</td>\n",
       "      <td>0</td>\n",
       "      <td>0.000000</td>\n",
       "    </tr>\n",
       "    <tr>\n",
       "      <th>10</th>\n",
       "      <td>21</td>\n",
       "      <td>22</td>\n",
       "      <td>Method to find separation of slits using fresn...</td>\n",
       "      <td>What are some of the things technicians can te...</td>\n",
       "      <td>0</td>\n",
       "      <td>0.000000</td>\n",
       "    </tr>\n",
       "    <tr>\n",
       "      <th>46</th>\n",
       "      <td>93</td>\n",
       "      <td>94</td>\n",
       "      <td>How did Darth Vader fought Darth Maul in Star ...</td>\n",
       "      <td>Does Quora have a character limit for profile ...</td>\n",
       "      <td>0</td>\n",
       "      <td>0.000000</td>\n",
       "    </tr>\n",
       "    <tr>\n",
       "      <th>6</th>\n",
       "      <td>13</td>\n",
       "      <td>14</td>\n",
       "      <td>Should I buy tiago?</td>\n",
       "      <td>What keeps childern active and far from phone ...</td>\n",
       "      <td>0</td>\n",
       "      <td>0.000000</td>\n",
       "    </tr>\n",
       "  </tbody>\n",
       "</table>\n",
       "</div>"
      ],
      "text/plain": [
       "    qid1  qid2                                          question1  \\\n",
       "id                                                                  \n",
       "16    33    34                       What does manipulation mean?   \n",
       "13    27    28        What was your first sexual experience like?   \n",
       "0      1     2  What is the step by step guide to invest in sh...   \n",
       "14    29    30  What are the laws to change your status from a...   \n",
       "25    51    52  What are some tips on making it through the jo...   \n",
       "41    83    84  When can I expect my Cognizant confirmation mail?   \n",
       "34    69    70          What is the best travel website in spain?   \n",
       "44    89    90  What universities does Rexnord recruit new gra...   \n",
       "42    85    86          Can I make 50,000 a month by day trading?   \n",
       "19    39    40  Which is the best digital marketing institutio...   \n",
       "28    57    58             What is best way to make money online?   \n",
       "8     17    18                    When do you use シ instead of し?   \n",
       "32    65    66  What Game of Thrones villain would be the most...   \n",
       "26    53    54                           What is web application?   \n",
       "49    99   100                             How do I make friends.   \n",
       "12    25    26               What can make Physics easy to learn?   \n",
       "48    97    98  What are some examples of products that can be...   \n",
       "30    61    62      What's one thing you would like to do better?   \n",
       "29    59    60             How should I prepare for CA final law?   \n",
       "22    45    46    What are the questions should not ask on Quora?   \n",
       "45    91    92  What is the quickest way to increase Instagram...   \n",
       "38    77    78                        How do we prepare for UPSC?   \n",
       "1      3     4  What is the story of Kohinoor (Koh-i-Noor) Dia...   \n",
       "5     11    12  Astrology: I am a Capricorn Sun Cap moon and c...   \n",
       "9     19    20  Motorola (company): Can I hack my Charter Moto...   \n",
       "11    23    24        How do I read and find my YouTube comments?   \n",
       "7     15    16                     How can I be a good geologist?   \n",
       "15    31    32  What would a Trump presidency mean for current...   \n",
       "36    73    74  I'm a 19-year-old. How can I improve my skills...   \n",
       "2      5     6  How can I increase the speed of my internet co...   \n",
       "18    37    38  Why are so many Quora users posting questions ...   \n",
       "20    41    42                         Why do rockets look white?   \n",
       "21    43    44              What's causing someone to be jealous?   \n",
       "27    55    56  Does society place too much importance on sports?   \n",
       "35    71    72  Why do some people think Obama will try to tak...   \n",
       "43    87    88  Is being a good kid and not being a rebel wort...   \n",
       "31    63    64  What are some special cares for someone with a...   \n",
       "37    75    76  When a girlfriend asks her boyfriend \"Why did ...   \n",
       "4      9    10  Which one dissolve in water quikly sugar, salt...   \n",
       "40    81    82                                Why do Slavs squat?   \n",
       "17    35    36  Why do girls want to be friends with the guy t...   \n",
       "47    95    96  What are the stages of breaking up between cou...   \n",
       "24    49    50  What does it mean that every time I look at th...   \n",
       "39    79    80  What is the stall speed and AOA of an f-14 wit...   \n",
       "33    67    68  Does the United States government still blackl...   \n",
       "3      7     8  Why am I mentally very lonely? How can I solve...   \n",
       "23    47    48                           How much is 30 kV in HP?   \n",
       "10    21    22  Method to find separation of slits using fresn...   \n",
       "46    93    94  How did Darth Vader fought Darth Maul in Star ...   \n",
       "6     13    14                                Should I buy tiago?   \n",
       "\n",
       "                                            question2  is_duplicate   jaccard  \n",
       "id                                                                             \n",
       "16                      What does manipulation means?             1  0.956522  \n",
       "13             What was your first sexual experience?             1  0.864865  \n",
       "0   What is the step by step guide to invest in sh...             0  0.847458  \n",
       "14  What are the laws to change your status from a...             0  0.816327  \n",
       "25  What are some tips on making it through the jo...             0  0.772727  \n",
       "41     When can I expect Cognizant confirmation mail?             0  0.765957  \n",
       "34                   What is the best travel website?             0  0.742857  \n",
       "44  What universities does B&G Foods recruit new g...             0  0.729167  \n",
       "42          Can I make 30,000 a month by day trading?             0  0.707317  \n",
       "19  Which is the best digital marketing institute ...             0  0.619048  \n",
       "28          What is best way to ask for money online?             0  0.522727  \n",
       "8               When do you use \"&\" instead of \"and\"?             0  0.473684  \n",
       "32  What Game of Thrones villain would you most li...             1  0.408602  \n",
       "26             What is the web application framework?             0  0.388889  \n",
       "49                              How to make friends ?             1  0.347826  \n",
       "12            How can you make physics easy to learn?             1  0.340426  \n",
       "48  What are some of the products made from crude ...             1  0.312500  \n",
       "30    What's one thing you do despite knowing better?             0  0.290323  \n",
       "29  How one should know that he/she completely pre...             1  0.266667  \n",
       "22              Which question should I ask on Quora?             0  0.263158  \n",
       "45  How can we increase our number of Instagram fo...             0  0.253165  \n",
       "38                How do I prepare for civil service?             1  0.250000  \n",
       "1   What would happen if the Indian government sto...             0  0.175926  \n",
       "5   I'm a triple Capricorn (Sun, Moon and ascendan...             1  0.169118  \n",
       "9   How do I hack Motorola DCX3400 for free internet?             0  0.158537  \n",
       "11             How can I see all my Youtube comments?             1  0.150000  \n",
       "7           What should I do to be a great geologist?             1  0.134615  \n",
       "15  How will a Trump presidency affect the student...             1  0.133333  \n",
       "36  I am a 19 year old guy. How can I become a bil...             0  0.132911  \n",
       "2   How can Internet speed be increased by hacking...             0  0.121495  \n",
       "18  Why do people ask Quora questions which can be...             1  0.117188  \n",
       "20        Why are rockets and boosters painted white?             1  0.096154  \n",
       "21   What can I do to avoid being jealous of someone?             0  0.089552  \n",
       "27           How do sports contribute to the society?             0  0.069444  \n",
       "35  Has there been a gun control initiative to tak...             0  0.066116  \n",
       "43                     Is being bored good for a kid?             0  0.065789  \n",
       "31  How can I keep my nose from getting stuffy at ...             1  0.041322  \n",
       "37  My girlfriend said that we should end this bec...             0  0.037288  \n",
       "4             Which fish would survive in salt water?             0  0.030000  \n",
       "40                  Will squats make my legs thicker?             0  0.025641  \n",
       "17           How do guys feel after rejecting a girl?             0  0.024096  \n",
       "47  Who is affected more by a breakup, the boy or ...             0  0.017964  \n",
       "24   How many times a day do a clock’s hands overlap?             0  0.017699  \n",
       "39  Why did aircraft stop using variable-sweep win...             0  0.007692  \n",
       "33  How is the average speed of gas molecules dete...             0  0.006410  \n",
       "3   Find the remainder when [math]23^{24}[/math] i...             0  0.000000  \n",
       "23  Where can I find a conversion chart for CC to ...             0  0.000000  \n",
       "10  What are some of the things technicians can te...             0  0.000000  \n",
       "46  Does Quora have a character limit for profile ...             0  0.000000  \n",
       "6   What keeps childern active and far from phone ...             0  0.000000  "
      ]
     },
     "execution_count": 60,
     "metadata": {},
     "output_type": "execute_result"
    }
   ],
   "source": [
    "questions.head(n=50).sort_values('jaccard', ascending=False)"
   ]
  },
  {
   "cell_type": "markdown",
   "metadata": {
    "slideshow": {
     "slide_type": "slide"
    }
   },
   "source": [
    "# All pairs comparisons !!!\n",
    "\n",
    " - locality sensitive hashing\n",
    "\n",
    "- minhashing"
   ]
  },
  {
   "cell_type": "code",
   "execution_count": 71,
   "metadata": {
    "ExecuteTime": {
     "end_time": "2018-04-15T11:01:19.024331Z",
     "start_time": "2018-04-15T13:01:19.021547+02:00"
    }
   },
   "outputs": [
    {
     "data": {
      "text/plain": [
       "0.7368421052631579"
      ]
     },
     "execution_count": 71,
     "metadata": {},
     "output_type": "execute_result"
    }
   ],
   "source": [
    "jaccard(shingles('the cat sat on the mat'), shingles('the cat sat on the sofa'))"
   ]
  },
  {
   "cell_type": "code",
   "execution_count": 68,
   "metadata": {
    "ExecuteTime": {
     "end_time": "2018-04-15T13:03:11.858384Z",
     "start_time": "2018-04-15T15:03:11.855143+02:00"
    }
   },
   "outputs": [
    {
     "data": {
      "text/plain": [
       "({' cat s',\n",
       "  ' on th',\n",
       "  ' sat o',\n",
       "  ' the m',\n",
       "  'at on ',\n",
       "  'at sat',\n",
       "  'cat sa',\n",
       "  'e cat ',\n",
       "  'he cat',\n",
       "  'n the ',\n",
       "  'on the',\n",
       "  'sat on',\n",
       "  't on t',\n",
       "  't sat ',\n",
       "  'the ca',\n",
       "  'the ma'},\n",
       " {' cat s',\n",
       "  ' on th',\n",
       "  ' sat o',\n",
       "  ' the s',\n",
       "  'at on ',\n",
       "  'at sat',\n",
       "  'cat sa',\n",
       "  'e cat ',\n",
       "  'he cat',\n",
       "  'he sof',\n",
       "  'n the ',\n",
       "  'on the',\n",
       "  'sat on',\n",
       "  't on t',\n",
       "  't sat ',\n",
       "  'the ca',\n",
       "  'the so'})"
      ]
     },
     "execution_count": 68,
     "metadata": {},
     "output_type": "execute_result"
    }
   ],
   "source": [
    "shingles('the cat sat on the mat'), shingles('the cat sat on the sofa')"
   ]
  },
  {
   "cell_type": "code",
   "execution_count": 75,
   "metadata": {
    "ExecuteTime": {
     "end_time": "2018-04-15T11:03:38.054633Z",
     "start_time": "2018-04-15T13:03:38.051817+02:00"
    },
    "collapsed": true
   },
   "outputs": [],
   "source": [
    "shingle_ids = {}\n",
    "shingle_ids_rev = {}\n",
    "for s in shingles('the cat sat on the mat') | shingles('the cat sat on the sofa'):\n",
    "    id_i = len(shingle_ids)\n",
    "    shingle_ids[id_i] = s\n",
    "    shingle_ids_rev[s] = id_i"
   ]
  },
  {
   "cell_type": "code",
   "execution_count": 76,
   "metadata": {
    "ExecuteTime": {
     "end_time": "2018-04-15T11:03:39.310309Z",
     "start_time": "2018-04-15T13:03:39.307507+02:00"
    }
   },
   "outputs": [],
   "source": [
    "d1 = shingles('the cat sat on the mat')\n",
    "d2 = shingles('the cat sat on the sofa')"
   ]
  },
  {
   "cell_type": "code",
   "execution_count": 81,
   "metadata": {
    "ExecuteTime": {
     "end_time": "2018-04-15T11:11:19.877644Z",
     "start_time": "2018-04-15T13:11:19.874855+02:00"
    },
    "collapsed": true
   },
   "outputs": [],
   "source": [
    "import ipywidgets as widgets"
   ]
  },
  {
   "cell_type": "code",
   "execution_count": 95,
   "metadata": {
    "ExecuteTime": {
     "end_time": "2018-04-15T11:21:35.519647Z",
     "start_time": "2018-04-15T13:21:35.516766+02:00"
    }
   },
   "outputs": [
    {
     "data": {
      "text/plain": [
       "pandas.core.frame.DataFrame"
      ]
     },
     "execution_count": 95,
     "metadata": {},
     "output_type": "execute_result"
    }
   ],
   "source": [
    "type(df)"
   ]
  },
  {
   "cell_type": "code",
   "execution_count": 198,
   "metadata": {
    "ExecuteTime": {
     "end_time": "2018-04-15T11:58:08.566928Z",
     "start_time": "2018-04-15T13:58:08.559209+02:00"
    }
   },
   "outputs": [
    {
     "data": {
      "text/html": [
       "\n",
       "    <div class=\"bk-root\">\n",
       "        <a href=\"http://bokeh.pydata.org\" target=\"_blank\" class=\"bk-logo bk-logo-small bk-logo-notebook\"></a>\n",
       "        <span id=\"b0b79f70-f27d-45fc-a528-6fb8a6847f1f\">Loading BokehJS ...</span>\n",
       "    </div>"
      ]
     },
     "metadata": {},
     "output_type": "display_data"
    },
    {
     "data": {
      "application/javascript": [
       "\n",
       "(function(global) {\n",
       "  function now() {\n",
       "    return new Date();\n",
       "  }\n",
       "\n",
       "  var force = true;\n",
       "\n",
       "  if (typeof (window._bokeh_onload_callbacks) === \"undefined\" || force === true) {\n",
       "    window._bokeh_onload_callbacks = [];\n",
       "    window._bokeh_is_loading = undefined;\n",
       "  }\n",
       "\n",
       "\n",
       "  \n",
       "  if (typeof (window._bokeh_timeout) === \"undefined\" || force === true) {\n",
       "    window._bokeh_timeout = Date.now() + 5000;\n",
       "    window._bokeh_failed_load = false;\n",
       "  }\n",
       "\n",
       "  var NB_LOAD_WARNING = {'data': {'text/html':\n",
       "     \"<div style='background-color: #fdd'>\\n\"+\n",
       "     \"<p>\\n\"+\n",
       "     \"BokehJS does not appear to have successfully loaded. If loading BokehJS from CDN, this \\n\"+\n",
       "     \"may be due to a slow or bad network connection. Possible fixes:\\n\"+\n",
       "     \"</p>\\n\"+\n",
       "     \"<ul>\\n\"+\n",
       "     \"<li>re-rerun `output_notebook()` to attempt to load from CDN again, or</li>\\n\"+\n",
       "     \"<li>use INLINE resources instead, as so:</li>\\n\"+\n",
       "     \"</ul>\\n\"+\n",
       "     \"<code>\\n\"+\n",
       "     \"from bokeh.resources import INLINE\\n\"+\n",
       "     \"output_notebook(resources=INLINE)\\n\"+\n",
       "     \"</code>\\n\"+\n",
       "     \"</div>\"}};\n",
       "\n",
       "  function display_loaded() {\n",
       "    if (window.Bokeh !== undefined) {\n",
       "      var el = document.getElementById(\"b0b79f70-f27d-45fc-a528-6fb8a6847f1f\");\n",
       "      el.textContent = \"BokehJS \" + Bokeh.version + \" successfully loaded.\";\n",
       "    } else if (Date.now() < window._bokeh_timeout) {\n",
       "      setTimeout(display_loaded, 100)\n",
       "    }\n",
       "  }\n",
       "\n",
       "  function run_callbacks() {\n",
       "    try {\n",
       "      window._bokeh_onload_callbacks.forEach(function(callback) { callback() });\n",
       "    }\n",
       "    finally {\n",
       "      delete window._bokeh_onload_callbacks\n",
       "    }\n",
       "    console.info(\"Bokeh: all callbacks have finished\");\n",
       "  }\n",
       "\n",
       "  function load_libs(js_urls, callback) {\n",
       "    window._bokeh_onload_callbacks.push(callback);\n",
       "    if (window._bokeh_is_loading > 0) {\n",
       "      console.log(\"Bokeh: BokehJS is being loaded, scheduling callback at\", now());\n",
       "      return null;\n",
       "    }\n",
       "    if (js_urls == null || js_urls.length === 0) {\n",
       "      run_callbacks();\n",
       "      return null;\n",
       "    }\n",
       "    console.log(\"Bokeh: BokehJS not loaded, scheduling load and callback at\", now());\n",
       "    window._bokeh_is_loading = js_urls.length;\n",
       "    for (var i = 0; i < js_urls.length; i++) {\n",
       "      var url = js_urls[i];\n",
       "      var s = document.createElement('script');\n",
       "      s.src = url;\n",
       "      s.async = false;\n",
       "      s.onreadystatechange = s.onload = function() {\n",
       "        window._bokeh_is_loading--;\n",
       "        if (window._bokeh_is_loading === 0) {\n",
       "          console.log(\"Bokeh: all BokehJS libraries loaded\");\n",
       "          run_callbacks()\n",
       "        }\n",
       "      };\n",
       "      s.onerror = function() {\n",
       "        console.warn(\"failed to load library \" + url);\n",
       "      };\n",
       "      console.log(\"Bokeh: injecting script tag for BokehJS library: \", url);\n",
       "      document.getElementsByTagName(\"head\")[0].appendChild(s);\n",
       "    }\n",
       "  };var element = document.getElementById(\"b0b79f70-f27d-45fc-a528-6fb8a6847f1f\");\n",
       "  if (element == null) {\n",
       "    console.log(\"Bokeh: ERROR: autoload.js configured with elementid 'b0b79f70-f27d-45fc-a528-6fb8a6847f1f' but no matching script tag was found. \")\n",
       "    return false;\n",
       "  }\n",
       "\n",
       "  var js_urls = [\"https://cdn.pydata.org/bokeh/release/bokeh-0.12.6.min.js\", \"https://cdn.pydata.org/bokeh/release/bokeh-widgets-0.12.6.min.js\"];\n",
       "\n",
       "  var inline_js = [\n",
       "    function(Bokeh) {\n",
       "      Bokeh.set_log_level(\"info\");\n",
       "    },\n",
       "    \n",
       "    function(Bokeh) {\n",
       "      \n",
       "    },\n",
       "    \n",
       "    function(Bokeh) {\n",
       "      \n",
       "      document.getElementById(\"b0b79f70-f27d-45fc-a528-6fb8a6847f1f\").textContent = \"BokehJS is loading...\";\n",
       "    },\n",
       "    function(Bokeh) {\n",
       "      console.log(\"Bokeh: injecting CSS: https://cdn.pydata.org/bokeh/release/bokeh-0.12.6.min.css\");\n",
       "      Bokeh.embed.inject_css(\"https://cdn.pydata.org/bokeh/release/bokeh-0.12.6.min.css\");\n",
       "      console.log(\"Bokeh: injecting CSS: https://cdn.pydata.org/bokeh/release/bokeh-widgets-0.12.6.min.css\");\n",
       "      Bokeh.embed.inject_css(\"https://cdn.pydata.org/bokeh/release/bokeh-widgets-0.12.6.min.css\");\n",
       "    }\n",
       "  ];\n",
       "\n",
       "  function run_inline_js() {\n",
       "    \n",
       "    if ((window.Bokeh !== undefined) || (force === true)) {\n",
       "      for (var i = 0; i < inline_js.length; i++) {\n",
       "        inline_js[i](window.Bokeh);\n",
       "      }if (force === true) {\n",
       "        display_loaded();\n",
       "      }} else if (Date.now() < window._bokeh_timeout) {\n",
       "      setTimeout(run_inline_js, 100);\n",
       "    } else if (!window._bokeh_failed_load) {\n",
       "      console.log(\"Bokeh: BokehJS failed to load within specified timeout.\");\n",
       "      window._bokeh_failed_load = true;\n",
       "    } else if (force !== true) {\n",
       "      var cell = $(document.getElementById(\"b0b79f70-f27d-45fc-a528-6fb8a6847f1f\")).parents('.cell').data().cell;\n",
       "      cell.output_area.append_execute_result(NB_LOAD_WARNING)\n",
       "    }\n",
       "\n",
       "  }\n",
       "\n",
       "  if (window._bokeh_is_loading === 0) {\n",
       "    console.log(\"Bokeh: BokehJS loaded, going straight to plotting\");\n",
       "    run_inline_js();\n",
       "  } else {\n",
       "    load_libs(js_urls, function() {\n",
       "      console.log(\"Bokeh: BokehJS plotting callback run at\", now());\n",
       "      run_inline_js();\n",
       "    });\n",
       "  }\n",
       "}(this));"
      ]
     },
     "metadata": {},
     "output_type": "display_data"
    }
   ],
   "source": [
    "import bokeh\n",
    "\n",
    "bokeh.io.output_notebook()"
   ]
  },
  {
   "cell_type": "code",
   "execution_count": 365,
   "metadata": {
    "ExecuteTime": {
     "end_time": "2018-04-15T13:01:03.342533Z",
     "start_time": "2018-04-15T15:01:03.336352+02:00"
    }
   },
   "outputs": [],
   "source": [
    "import random\n",
    "\n",
    "from bokeh.models import DataTable, TableColumn, Text\n",
    "from bokeh.models import ColumnDataSource\n",
    "\n",
    "get_shingle = lambda d, shingle: shingle if shingle in d else '' \n",
    "\n",
    "keys = list(shingle_ids.keys())\n",
    "random.shuffle(keys)\n",
    "perm = [(shingle_id, get_shingle(d1, shingle_ids[shingle_id]), get_shingle(d2, shingle_ids[shingle_id])) for shingle_id in keys]\n",
    "df = pd.DataFrame.from_records(perm, columns=['shingle ID', 'doc 1', 'doc 2'])\n",
    "\n",
    "source = ColumnDataSource(df.to_dict(orient='list'))"
   ]
  },
  {
   "cell_type": "code",
   "execution_count": 371,
   "metadata": {
    "ExecuteTime": {
     "end_time": "2018-04-15T13:03:11.858384Z",
     "start_time": "2018-04-15T15:03:11.855143+02:00"
    },
    "scrolled": true
   },
   "outputs": [],
   "source": [
    "table = DataTable(columns=[TableColumn(field='shingle ID', title='Shingle ID'),\n",
    "                           TableColumn(field='doc 1', title='Doc 1'),\n",
    "                           TableColumn(field='doc 2', title='Doc 2')],\n",
    "                  source=source)"
   ]
  },
  {
   "cell_type": "code",
   "execution_count": 396,
   "metadata": {
    "ExecuteTime": {
     "end_time": "2018-04-15T13:05:50.225063Z",
     "start_time": "2018-04-15T15:05:50.184372+02:00"
    },
    "scrolled": false
   },
   "outputs": [
    {
     "data": {
      "text/html": [
       "\n",
       "\n",
       "    <div class=\"bk-root\">\n",
       "        <div class=\"bk-plotdiv\" id=\"3740f6a2-1557-426a-8d34-4d0d884eb568\"></div>\n",
       "    </div>\n",
       "<script type=\"text/javascript\">\n",
       "  \n",
       "  (function(global) {\n",
       "    function now() {\n",
       "      return new Date();\n",
       "    }\n",
       "  \n",
       "    var force = false;\n",
       "  \n",
       "    if (typeof (window._bokeh_onload_callbacks) === \"undefined\" || force === true) {\n",
       "      window._bokeh_onload_callbacks = [];\n",
       "      window._bokeh_is_loading = undefined;\n",
       "    }\n",
       "  \n",
       "  \n",
       "    \n",
       "    if (typeof (window._bokeh_timeout) === \"undefined\" || force === true) {\n",
       "      window._bokeh_timeout = Date.now() + 0;\n",
       "      window._bokeh_failed_load = false;\n",
       "    }\n",
       "  \n",
       "    var NB_LOAD_WARNING = {'data': {'text/html':\n",
       "       \"<div style='background-color: #fdd'>\\n\"+\n",
       "       \"<p>\\n\"+\n",
       "       \"BokehJS does not appear to have successfully loaded. If loading BokehJS from CDN, this \\n\"+\n",
       "       \"may be due to a slow or bad network connection. Possible fixes:\\n\"+\n",
       "       \"</p>\\n\"+\n",
       "       \"<ul>\\n\"+\n",
       "       \"<li>re-rerun `output_notebook()` to attempt to load from CDN again, or</li>\\n\"+\n",
       "       \"<li>use INLINE resources instead, as so:</li>\\n\"+\n",
       "       \"</ul>\\n\"+\n",
       "       \"<code>\\n\"+\n",
       "       \"from bokeh.resources import INLINE\\n\"+\n",
       "       \"output_notebook(resources=INLINE)\\n\"+\n",
       "       \"</code>\\n\"+\n",
       "       \"</div>\"}};\n",
       "  \n",
       "    function display_loaded() {\n",
       "      if (window.Bokeh !== undefined) {\n",
       "        var el = document.getElementById(\"3740f6a2-1557-426a-8d34-4d0d884eb568\");\n",
       "        el.textContent = \"BokehJS \" + Bokeh.version + \" successfully loaded.\";\n",
       "      } else if (Date.now() < window._bokeh_timeout) {\n",
       "        setTimeout(display_loaded, 100)\n",
       "      }\n",
       "    }if ((window.Jupyter !== undefined) && Jupyter.notebook.kernel) {\n",
       "      comm_manager = Jupyter.notebook.kernel.comm_manager\n",
       "      comm_manager.register_target(\"2e5959f0-f176-4b4c-853b-2b221b477e68\", function () {});\n",
       "    }\n",
       "  \n",
       "    function run_callbacks() {\n",
       "      try {\n",
       "        window._bokeh_onload_callbacks.forEach(function(callback) { callback() });\n",
       "      }\n",
       "      finally {\n",
       "        delete window._bokeh_onload_callbacks\n",
       "      }\n",
       "      console.info(\"Bokeh: all callbacks have finished\");\n",
       "    }\n",
       "  \n",
       "    function load_libs(js_urls, callback) {\n",
       "      window._bokeh_onload_callbacks.push(callback);\n",
       "      if (window._bokeh_is_loading > 0) {\n",
       "        console.log(\"Bokeh: BokehJS is being loaded, scheduling callback at\", now());\n",
       "        return null;\n",
       "      }\n",
       "      if (js_urls == null || js_urls.length === 0) {\n",
       "        run_callbacks();\n",
       "        return null;\n",
       "      }\n",
       "      console.log(\"Bokeh: BokehJS not loaded, scheduling load and callback at\", now());\n",
       "      window._bokeh_is_loading = js_urls.length;\n",
       "      for (var i = 0; i < js_urls.length; i++) {\n",
       "        var url = js_urls[i];\n",
       "        var s = document.createElement('script');\n",
       "        s.src = url;\n",
       "        s.async = false;\n",
       "        s.onreadystatechange = s.onload = function() {\n",
       "          window._bokeh_is_loading--;\n",
       "          if (window._bokeh_is_loading === 0) {\n",
       "            console.log(\"Bokeh: all BokehJS libraries loaded\");\n",
       "            run_callbacks()\n",
       "          }\n",
       "        };\n",
       "        s.onerror = function() {\n",
       "          console.warn(\"failed to load library \" + url);\n",
       "        };\n",
       "        console.log(\"Bokeh: injecting script tag for BokehJS library: \", url);\n",
       "        document.getElementsByTagName(\"head\")[0].appendChild(s);\n",
       "      }\n",
       "    };var element = document.getElementById(\"3740f6a2-1557-426a-8d34-4d0d884eb568\");\n",
       "    if (element == null) {\n",
       "      console.log(\"Bokeh: ERROR: autoload.js configured with elementid '3740f6a2-1557-426a-8d34-4d0d884eb568' but no matching script tag was found. \")\n",
       "      return false;\n",
       "    }\n",
       "  \n",
       "    var js_urls = [];\n",
       "  \n",
       "    var inline_js = [\n",
       "      function(Bokeh) {\n",
       "        (function() {\n",
       "          var fn = function() {\n",
       "            var docs_json = {\"cc2247e7-02f5-4c77-8ee9-d8f8193f0791\":{\"roots\":{\"references\":[{\"attributes\":{\"children\":[{\"id\":\"5e8907e8-c81d-442a-8a65-21dcd3c9206b\",\"type\":\"WidgetBox\"}]},\"id\":\"3aa2cd01-2c9c-4b61-a26b-0a5024177769\",\"type\":\"Row\"},{\"attributes\":{},\"id\":\"eebad2f9-7ec3-4f0a-9000-1c6d6b0b470b\",\"type\":\"StringFormatter\"},{\"attributes\":{},\"id\":\"65c995b0-d524-42ba-80ee-e566cc2c2c0b\",\"type\":\"StringEditor\"},{\"attributes\":{},\"id\":\"0b3ac720-db4e-4149-9b1b-96785fe94764\",\"type\":\"StringEditor\"},{\"attributes\":{},\"id\":\"74aacb56-67dd-41fc-a419-1b44fecf91b8\",\"type\":\"StringFormatter\"},{\"attributes\":{},\"id\":\"31aff357-be91-4d0b-a04a-a600f9362844\",\"type\":\"StringEditor\"},{\"attributes\":{},\"id\":\"bd8e6449-e26f-4fe9-b12c-9fe21e385c8d\",\"type\":\"StringFormatter\"},{\"attributes\":{\"editor\":{\"id\":\"31aff357-be91-4d0b-a04a-a600f9362844\",\"type\":\"StringEditor\"},\"field\":\"doc 2\",\"formatter\":{\"id\":\"eebad2f9-7ec3-4f0a-9000-1c6d6b0b470b\",\"type\":\"StringFormatter\"},\"title\":\"Doc 2\"},\"id\":\"9761a7b8-3038-45be-a581-fcf0359c41cd\",\"type\":\"TableColumn\"},{\"attributes\":{\"children\":[{\"id\":\"4ce7a19b-eb92-48f4-8859-d091e9482e53\",\"type\":\"DataTable\"}],\"height\":400},\"id\":\"5e8907e8-c81d-442a-8a65-21dcd3c9206b\",\"type\":\"WidgetBox\"},{\"attributes\":{\"columns\":[{\"id\":\"09a7309e-badc-4049-bdae-49344bdada3c\",\"type\":\"TableColumn\"},{\"id\":\"f4734ab6-cf7a-4ee6-9a89-e546a300aa80\",\"type\":\"TableColumn\"},{\"id\":\"9761a7b8-3038-45be-a581-fcf0359c41cd\",\"type\":\"TableColumn\"}],\"source\":{\"id\":\"4604a1ee-b6c7-4742-9424-5021eda020e7\",\"type\":\"ColumnDataSource\"}},\"id\":\"4ce7a19b-eb92-48f4-8859-d091e9482e53\",\"type\":\"DataTable\"},{\"attributes\":{\"editor\":{\"id\":\"0b3ac720-db4e-4149-9b1b-96785fe94764\",\"type\":\"StringEditor\"},\"field\":\"shingle ID\",\"formatter\":{\"id\":\"74aacb56-67dd-41fc-a419-1b44fecf91b8\",\"type\":\"StringFormatter\"},\"title\":\"Shingle ID\"},\"id\":\"09a7309e-badc-4049-bdae-49344bdada3c\",\"type\":\"TableColumn\"},{\"attributes\":{\"callback\":null,\"column_names\":[\"shingle ID\",\"doc 1\",\"doc 2\"],\"data\":{\"doc 1\":[\"he cat\",\"\",\"n the \",\"t sat \",\"at on \",\" the m\",\"sat on\",\"t on t\",\"the ma\",\"e cat \",\"on the\",\"cat sa\",\" cat s\",\" on th\",\"\",\"\",\"at sat\",\"the ca\",\" sat o\"],\"doc 2\":[\"he cat\",\"he sof\",\"n the \",\"t sat \",\"at on \",\"\",\"sat on\",\"t on t\",\"\",\"e cat \",\"on the\",\"cat sa\",\" cat s\",\" on th\",\"the so\",\" the s\",\"at sat\",\"the ca\",\" sat o\"],\"shingle ID\":[12,3,2,9,6,4,7,8,16,5,18,0,10,1,11,17,15,13,14]}},\"id\":\"4604a1ee-b6c7-4742-9424-5021eda020e7\",\"type\":\"ColumnDataSource\"},{\"attributes\":{\"editor\":{\"id\":\"65c995b0-d524-42ba-80ee-e566cc2c2c0b\",\"type\":\"StringEditor\"},\"field\":\"doc 1\",\"formatter\":{\"id\":\"bd8e6449-e26f-4fe9-b12c-9fe21e385c8d\",\"type\":\"StringFormatter\"},\"title\":\"Doc 1\"},\"id\":\"f4734ab6-cf7a-4ee6-9a89-e546a300aa80\",\"type\":\"TableColumn\"}],\"root_ids\":[\"3aa2cd01-2c9c-4b61-a26b-0a5024177769\"]},\"title\":\"Bokeh Application\",\"version\":\"0.12.6\"}};\n",
       "            var render_items = [{\"docid\":\"cc2247e7-02f5-4c77-8ee9-d8f8193f0791\",\"elementid\":\"3740f6a2-1557-426a-8d34-4d0d884eb568\",\"modelid\":\"3aa2cd01-2c9c-4b61-a26b-0a5024177769\",\"notebook_comms_target\":\"2e5959f0-f176-4b4c-853b-2b221b477e68\"}];\n",
       "            \n",
       "            Bokeh.embed.embed_items(docs_json, render_items);\n",
       "          };\n",
       "          if (document.readyState != \"loading\") fn();\n",
       "          else document.addEventListener(\"DOMContentLoaded\", fn);\n",
       "        })();\n",
       "      },\n",
       "      function(Bokeh) {\n",
       "      }\n",
       "    ];\n",
       "  \n",
       "    function run_inline_js() {\n",
       "      \n",
       "      if ((window.Bokeh !== undefined) || (force === true)) {\n",
       "        for (var i = 0; i < inline_js.length; i++) {\n",
       "          inline_js[i](window.Bokeh);\n",
       "        }if (force === true) {\n",
       "          display_loaded();\n",
       "        }} else if (Date.now() < window._bokeh_timeout) {\n",
       "        setTimeout(run_inline_js, 100);\n",
       "      } else if (!window._bokeh_failed_load) {\n",
       "        console.log(\"Bokeh: BokehJS failed to load within specified timeout.\");\n",
       "        window._bokeh_failed_load = true;\n",
       "      } else if (force !== true) {\n",
       "        var cell = $(document.getElementById(\"3740f6a2-1557-426a-8d34-4d0d884eb568\")).parents('.cell').data().cell;\n",
       "        cell.output_area.append_execute_result(NB_LOAD_WARNING)\n",
       "      }\n",
       "  \n",
       "    }\n",
       "  \n",
       "    if (window._bokeh_is_loading === 0) {\n",
       "      console.log(\"Bokeh: BokehJS loaded, going straight to plotting\");\n",
       "      run_inline_js();\n",
       "    } else {\n",
       "      load_libs(js_urls, function() {\n",
       "        console.log(\"Bokeh: BokehJS plotting callback run at\", now());\n",
       "        run_inline_js();\n",
       "      });\n",
       "    }\n",
       "  }(this));\n",
       "</script>"
      ]
     },
     "metadata": {},
     "output_type": "display_data"
    },
    {
     "data": {
      "application/vnd.jupyter.widget-view+json": {
       "model_id": "2d346a2dfcd3416797ae87469dd9279a"
      }
     },
     "metadata": {},
     "output_type": "display_data"
    }
   ],
   "source": [
    "row = bokeh.layouts.row([table])\n",
    "t = bokeh.io.show(row, notebook_handle=True)"
   ]
  },
  {
   "cell_type": "markdown",
   "metadata": {
    "slideshow": {
     "slide_type": "notes"
    }
   },
   "source": [
    "A random permutation of the rows can produce any of `19! == 121645100408832000` ([factorial](https://en.wikipedia.org/wiki/Factorial)) different orderings. However we only care about the orderings for which the two columns have the same lowest row number with a 1. Since the rows with zeros on them don't count, there are 19 rows with a one on it in any column, and 14 rows with a 1 in both columns. All a random permutation can therefore do is put two out of the five rows in the lowest row number, in other words produce a hash collision with a probability `14/19 ~ 0.736`."
   ]
  },
  {
   "cell_type": "code",
   "execution_count": 539,
   "metadata": {
    "ExecuteTime": {
     "end_time": "2018-04-15T13:25:45.118817Z",
     "start_time": "2018-04-15T15:25:45.116646+02:00"
    },
    "collapsed": true
   },
   "outputs": [],
   "source": [
    "sims = []"
   ]
  },
  {
   "cell_type": "code",
   "execution_count": 550,
   "metadata": {
    "ExecuteTime": {
     "end_time": "2018-04-15T13:26:11.926499Z",
     "start_time": "2018-04-15T15:26:05.531270+02:00"
    }
   },
   "outputs": [],
   "source": [
    "for _ in range(500):\n",
    "    random.shuffle(keys)\n",
    "    d1_min = min([i for i, shingle_id in enumerate(keys) if get_shingle(d1, shingle_ids[shingle_id])])\n",
    "    d2_min = min([i for i, shingle_id in enumerate(keys) if get_shingle(d2, shingle_ids[shingle_id])])\n",
    "    sims.append(d1_min == d2_min)\n",
    "    source.patch({'shingle ID': [(i, shingle_id) for i, shingle_id in enumerate(keys)],\n",
    "                  'doc 1': [(i, get_shingle(d1, shingle_ids[shingle_id])) for i, shingle_id in enumerate(keys)],\n",
    "                  'doc 2': [(i, get_shingle(d2, shingle_ids[shingle_id])) for i, shingle_id in enumerate(keys)]})\n",
    "    bokeh.io.push_notebook(handle=t)"
   ]
  },
  {
   "cell_type": "code",
   "execution_count": 551,
   "metadata": {
    "ExecuteTime": {
     "end_time": "2018-04-15T13:26:12.790145Z",
     "start_time": "2018-04-15T15:26:12.787676+02:00"
    }
   },
   "outputs": [
    {
     "data": {
      "text/plain": [
       "610"
      ]
     },
     "execution_count": 551,
     "metadata": {},
     "output_type": "execute_result"
    }
   ],
   "source": [
    "len(sims)"
   ]
  },
  {
   "cell_type": "code",
   "execution_count": 552,
   "metadata": {
    "ExecuteTime": {
     "end_time": "2018-04-15T13:26:13.557446Z",
     "start_time": "2018-04-15T15:26:13.554689+02:00"
    }
   },
   "outputs": [
    {
     "data": {
      "text/plain": [
       "0.7278688524590164"
      ]
     },
     "execution_count": 552,
     "metadata": {},
     "output_type": "execute_result"
    }
   ],
   "source": [
    "sum(sims) / len(sims)"
   ]
  },
  {
   "cell_type": "markdown",
   "metadata": {
    "slideshow": {
     "slide_type": "notes"
    }
   },
   "source": [
    "The problem with these shingles is that they do not allow us to compute the similarities of large numbers of documents very easily, we have to do an all pairs comparison. To get around that we can use locality sensitive hashing, but before LSH we'll turn the documents into a more manageable and uniform representation: a fixed length fingerprint comprised of k minhashes.\n",
    "\n",
    "Every document has a different number of shingles depending on the length of the document, for a corpus of any size predicting the memory requirements for an all pairs comparison is not possible as each document will consume a variable amount of memory. For LSH we would like to have a fixed length representation of the documents without changing the semantics of document similarity. This is where minhashing comes in. It turns out that the probability of a hash collision for a minhash is exactly the Jaccard similarity of two sets. This can be seen by considering the two sets of shingles as a matrix. For two dummy documents the shingles could be represented as the table below (the zeros and ones indicate if a shingle is present in the document or not). Notice that the Jaccard similarity of the documents is 2/5."
   ]
  },
  {
   "cell_type": "markdown",
   "metadata": {
    "slideshow": {
     "slide_type": "slide"
    }
   },
   "source": [
    "<table>\n",
    "<th colspan=4><center>Document Shingles</center></th>\n",
    "<tr> <td>row</td><td>shingle ID</td><td>Doc 1</td><td>Doc 2</td> </tr>\n",
    "<tr> <td>1</td><td>1</td><td>0</td><td>1</td> </tr>\n",
    "<tr> <td>2</td><td>2</td><td>1</td><td>1</td> </tr>\n",
    "<tr> <td>3</td><td>3</td><td>0</td><td>1</td> </tr>\n",
    "<tr> <td>4</td><td>4</td><td>1</td><td>0</td> </tr>\n",
    "<tr> <td>5</td><td>5</td><td>1</td><td>1</td> </tr>\n",
    "<tr> <td>6</td><td>6</td><td>0</td><td>0</td> </tr>\n",
    "</table>\n",
    "\n",
    "The `minhash` corresponds to a random permutation of the rows and gives back the row number where the first non zero entry is found. For the above table the minhash for documents one and two would thus be 2 and 1 respectively - meaning that the documents are not similar. The above table however is just one ordering of the shingles of each document. A different random permutation of the rows will give a different minhash, in this case 2 and 2, making the documents similar.\n",
    "\n",
    "_(Mining Massive Datasets, Leskovec et. al http://www.mmds.org/ Retrieved April 15th)_"
   ]
  },
  {
   "cell_type": "markdown",
   "metadata": {
    "ExecuteTime": {
     "end_time": "2018-04-15T10:53:32.971448Z",
     "start_time": "2018-04-15T12:53:32.966742+02:00"
    }
   },
   "source": [
    "<table>\n",
    "<th colspan=9><center>Document Shingles</center></th>\n",
    "<tr> <td>row</td><td>shingle ID</td><td>Doc 1</td><td>Doc 2</td> <td>|</td> <td>row</td><td>shingle ID</td><td>Doc 1</td><td>Doc 2</td> </tr>\n",
    "<tr> <td>1</td><td>1</td><td>0</td><td>1</td>                    <td>|</td> <td>1</td><td>6</td><td>0</td><td>0</td> </tr>\n",
    "<tr> <td>2</td><td>2</td><td>1</td><td>1</td>                    <td>|</td> <td>2</td><td>2</td><td>1</td><td>1</td> </tr>\n",
    "<tr> <td>3</td><td>3</td><td>0</td><td>1</td>                    <td>|</td> <td>3</td><td>3</td><td>0</td><td>1</td> </tr>\n",
    "<tr> <td>4</td><td>4</td><td>1</td><td>0</td>                    <td>|</td> <td>4</td><td>1</td><td>0</td><td>1</td> </tr>\n",
    "<tr> <td>5</td><td>5</td><td>1</td><td>1</td>                    <td>|</td> <td>5</td><td>4</td><td>1</td><td>0</td> </tr>\n",
    "<tr> <td>6</td><td>6</td><td>0</td><td>0</td>                    <td>|</td> <td>6</td><td>5</td><td>1</td><td>1</td> </tr>\n",
    "</table>"
   ]
  },
  {
   "cell_type": "markdown",
   "metadata": {
    "slideshow": {
     "slide_type": "slide"
    }
   },
   "source": [
    "# Some examples of the library"
   ]
  },
  {
   "cell_type": "markdown",
   "metadata": {},
   "source": [
    "![](gfx/lsh_github.png)"
   ]
  },
  {
   "cell_type": "code",
   "execution_count": 608,
   "metadata": {
    "ExecuteTime": {
     "end_time": "2018-04-15T14:19:34.186929Z",
     "start_time": "2018-04-15T16:19:34.172182+02:00"
    },
    "collapsed": true
   },
   "outputs": [],
   "source": [
    "import lsh\n",
    "from lsh.cache import Cache\n",
    "from lsh.minhash import MinHasher\n",
    "\n",
    "import itertools\n",
    "\n",
    "# create a fingerprint of each document using\n",
    "# - 100 minhashes\n",
    "# - character ngrams of 5 characters\n",
    "# - a hash space of 32 bits (this impacts the probability of hash collisions)\n",
    "hasher = MinHasher(seeds=100, char_ngram=5, hashbytes=4)\n",
    "\n",
    "def rcv1_headlines(n):\n",
    "    with open('/usr/local/scratch/data/rcv1/headline.text.txt', 'r') as fh:\n",
    "        feed = itertools.islice(fh, n)\n",
    "        for line in feed:\n",
    "            doc_id, doc = line.split('\\t', 1)\n",
    "            yield doc_id, doc\n",
    "            \n",
    "docs = list(rcv1_headlines(5000))"
   ]
  },
  {
   "cell_type": "code",
   "execution_count": 613,
   "metadata": {
    "ExecuteTime": {
     "end_time": "2018-04-15T14:21:03.213208Z",
     "start_time": "2018-04-15T16:20:55.400281+02:00"
    }
   },
   "outputs": [
    {
     "name": "stdout",
     "output_type": "stream",
     "text": [
      "The slowest run took 8202.19 times longer than the fastest. This could mean that an intermediate result is being cached.\n",
      "10000000 loops, best of 3: 184 ns per loop\n"
     ]
    }
   ],
   "source": [
    "%timeit hasher.fingerprint(doc)"
   ]
  },
  {
   "cell_type": "code",
   "execution_count": 612,
   "metadata": {
    "ExecuteTime": {
     "end_time": "2018-04-15T14:20:43.378588Z",
     "start_time": "2018-04-15T16:20:36.563876+02:00"
    }
   },
   "outputs": [
    {
     "name": "stdout",
     "output_type": "stream",
     "text": [
      "10000 loops, best of 3: 157 µs per loop\n"
     ]
    }
   ],
   "source": [
    "%timeit cache.is_duplicate(doc)"
   ]
  },
  {
   "cell_type": "code",
   "execution_count": 616,
   "metadata": {
    "ExecuteTime": {
     "end_time": "2018-04-15T14:22:02.926188Z",
     "start_time": "2018-04-15T16:21:58.499115+02:00"
    },
    "scrolled": true
   },
   "outputs": [
    {
     "name": "stdout",
     "output_type": "stream",
     "text": [
      "1 loop, best of 3: 1.1 s per loop\n"
     ]
    }
   ],
   "source": [
    "%%timeit\n",
    "# create the LSH cache\n",
    "cache = Cache(num_bands=10, hasher=hasher)\n",
    "for doc_id, doc in docs:\n",
    "    if not cache.is_duplicate(doc):\n",
    "        cache.add_doc(doc, doc_id=doc_id)\n",
    "#     else:\n",
    "#         duplicates = list(cache.get_duplicates_of(doc))\n",
    "#         print(f'Document {doc_id} has {len(duplicates)} duplicates. {[doc_id] + duplicates}')"
   ]
  },
  {
   "cell_type": "code",
   "execution_count": 607,
   "metadata": {
    "ExecuteTime": {
     "end_time": "2018-04-15T14:18:02.244746Z",
     "start_time": "2018-04-15T16:18:02.215170+02:00"
    },
    "scrolled": true
   },
   "outputs": [
    {
     "name": "stdout",
     "output_type": "stream",
     "text": [
      "Fed seen holding U.S. interest rates steady.  The U.S. Federal Reserve met on Tuesday to discuss the future course of interest rates and was widely expected to keep rates steady amid mixed signals on the economy. \"The speeches made by various Fed governors and by bank presidents recently are not pointing toward tightening,\" said Preston Martin, chairman of HomeVest Financial Services Inc. in San Francisco. \"I would think the odds are very heavily weighted toward the prospect that there will be no change at the next policy-making meeting,\" said Martin, a former Fed vice chairman. The central bank's policy-making Federal Open Market Committee (FOMC) started meeting at 9 a.m. EDT (1300 GMT). If past practice is followed, any decision should be announced around 2:15 p.m. EDT (1815 GMT). Martin's forecast was shared unanimously by the 30 economists polled last week by Reuters, although some of those experts did not rule out a rate rise later this year. Financial markets marked time Tuesday morning as they awaited the outcome of the central bank meeting, with bond and stock prices little changed. The Fed meeting takes place at a time when questions abound about whether the economy is beginning to cool off after growing at a fast clip in the second quarter. Until just a few weeks ago, many economists believed the economy was growing quickly enough to require an interest-rate rise by the Fed to slow it down and prevent inflation. However, a series of recent reports containing early signs of a slowdown changed those views. The latest came on Tuesday, with news that the U.S. trade deficit fell by more than 20 percent in June as imports plunged. Analysts said the steep drop in imports pointed to slackening domestic demand and a slowing U.S. economy. \"We had data very recently showing the housing market is starting to fade and the inflation reports were good,\" said Joel Prakken, chairman at the St. Louis forecasting firm Macroeconomic Advisors LLC. \"All of that suggests we are seeing a slowdown from the second quarter and that the Fed does not need to move,\" he added. Some experts, however, said the economic signs were inconclusive and did not rule out a rate rise later this year. Any rate increase would represent a reversal in the Fed's monetary policy. The previous rate change was in January, the last of a series of credit easings undertaken when the economy appeared soft. The economy has rebounded strongly since then. The federal funds rate, which commercial banks charge each other for overnight cash, is now at 5.25 percent. The funds rate is controlled by the Fed and acts as a benchmark for other short-term interest rates. The discount rate, which the Fed charges member banks for loans, stands at 5 percent. \n",
      "\n",
      "Fed seen holding U.S. interest rates steady.  The U.S. Federal Reserve meets on Tuesday to discuss the future course of interest rates and is widely expected to keep rates steady amid mixed signals on the economy. \"The speeches made by various Fed governors and by bank presidents recently are not pointing toward tightening,\" said Preston Martin, chairman of HomeVest Financial Services Inc. in San Francisco. \"I would think the odds are very heavily weighted toward the prospect that there will be no change at the next policy making meeting,\" said Martin, a former Fed vice chairman. The Fed's policy-making Federal Open Market Committee is due to start meeting at 9 a.m. EDT (1300 GMT). If past practice is followed, any decision by the FOMC should be announced around 2:15 p.m. EDT (1815 GMT). Martin's forecast was shared unanimously by the 30 economists polled last week by Reuters, although some of those experts did not rule out an interest-rate rise later this year. The Fed meeting takes place at a time when questions abound about whether the economy is beginning to cool off after growing at a fast clip in the second quarter. Until just a few weeks ago, many economists believed that the economy was growing quickly enough to require an interest-rate rise by the Fed to slow it down and prevent inflation. However, a series of recent reports containing early signs of a slowdown changed those views. \"We had data very recently showing the housing market is starting to fade and the inflation reports were good,\" said Joel Prakken, chairman at the St. Louis forecasting firm Macroeconomic Associates Advisors LLC. \"All of that suggests we are seeing a slowdown from the second quarter and that the Fed does not need to move,\" he added. Some experts, however, said the economic signs were inconclusive and did not rule out a rate rise later this year. Any rate increase would represent a reversal in the Fed's monetary policy. The previous rate change was in January, the last of a series of credit easings undertaken when the economy appeared soft. The economy has rebounded strongly since then. The federal funds rate, which commercial banks charge each other for overnight cash, is now at 5.25 percent. The funds rate is controlled by the Fed and acts as a benchmark for other short-term interest rates. The discount rate, which the Fed charges member banks for loans, stands at 5 percent. \n",
      "\n",
      "Fed seen holding U.S. interest rates steady.  The U.S. Federal Reserve meets on Tuesday to discuss the future course of interest rates and is widely expected to keep rates steady amid mixed signals on the economy. \"The speeches made by various Fed governors and by bank presidents recently are not pointing toward tightening,\" said Preston Martin, chairman of HomeVest Financial Services Inc. in San Francisco. \"I would think the odds are very heavily weighted toward the prospect that there will be no change at the next policy making meeting,\" said Martin, a former Fed vice chairman. The Fed's policy-making Federal Open Market Committee is due to start meeting at 9 a.m. EDT (1300 GMT). If past practice is followed, any decision by the FOMC should be announced around 2:15 p.m. EDT (1815 GMT). Martin's forecast was shared unanimously by the 30 economists polled last week by Reuters, although some of those experts did not rule out an interest-rate rise later this year. The Fed meeting takes place at a time when questions abound about whether the economy is beginning to cool off after growing at a fast clip in the second quarter. Until just a few weeks ago, many economists believed that the economy was growing quickly enough to require an interest-rate rise by the Fed to slow it down and prevent inflation. However, a series of recent reports containing early signs of a slowdown changed those views. \"We had data very recently showing the housing market is starting to fade and the inflation reports were good,\" said Joel Prakken, chairman at the St. Louis forecasting firm Macroeconomic Associates Advisors LLC. \"All of that suggests we are seeing a slowdown from the second quarter and that the Fed does not need to move,\" he added. Some experts, however, said the economic signs were inconclusive and did not rule out a rate rise later this year. Any rate increase would represent a reversal in the Fed's monetary policy. The previous rate change was in January, the last of a series of credit easings undertaken when the economy appeared soft. The economy has rebounded strongly since then. The federal funds rate, which commercial banks charge each other for overnight cash, is now at 5.25 percent. The funds rate is controlled by the Fed and acts as a benchmark for other short-term interest rates. The discount rate, which the Fed charges member banks for loans, stands at 5 percent. \n",
      "\n"
     ]
    }
   ],
   "source": [
    "for doc_id, doc in rcv1_headlines(10000):\n",
    "    if doc_id in ['2539', '2536', '2334']:\n",
    "        print(doc)"
   ]
  },
  {
   "cell_type": "code",
   "execution_count": 571,
   "metadata": {
    "ExecuteTime": {
     "end_time": "2018-04-15T13:49:53.151587Z",
     "start_time": "2018-04-15T15:49:53.142722+02:00"
    }
   },
   "outputs": [],
   "source": [
    "doc = !head -n 1 /usr/local/scratch/data/truly_native/gz/0fn8ztwu"
   ]
  },
  {
   "cell_type": "code",
   "execution_count": 577,
   "metadata": {
    "ExecuteTime": {
     "end_time": "2018-04-15T13:50:22.208969Z",
     "start_time": "2018-04-15T15:50:22.207173+02:00"
    }
   },
   "outputs": [],
   "source": [
    "from bs4 import BeautifulSoup as BS"
   ]
  },
  {
   "cell_type": "code",
   "execution_count": 586,
   "metadata": {
    "ExecuteTime": {
     "end_time": "2018-04-15T13:51:49.890066Z",
     "start_time": "2018-04-15T15:51:49.887612+02:00"
    }
   },
   "outputs": [],
   "source": [
    "doc = ' '.join(doc.fields()[0][2:])"
   ]
  },
  {
   "cell_type": "code",
   "execution_count": 593,
   "metadata": {
    "ExecuteTime": {
     "end_time": "2018-04-15T13:53:53.319026Z",
     "start_time": "2018-04-15T15:53:53.316643+02:00"
    }
   },
   "outputs": [],
   "source": [
    "with open('/home/matti/Desktop/test.html', 'wb') as fh:\n",
    "    fh.write(doc.encode('utf8'))"
   ]
  },
  {
   "cell_type": "code",
   "execution_count": 588,
   "metadata": {
    "ExecuteTime": {
     "end_time": "2018-04-15T13:51:57.065599Z",
     "start_time": "2018-04-15T15:51:56.945061+02:00"
    }
   },
   "outputs": [],
   "source": [
    "htmldoc = BS(doc, \"html5lib\")"
   ]
  },
  {
   "cell_type": "code",
   "execution_count": 591,
   "metadata": {
    "ExecuteTime": {
     "end_time": "2018-04-15T13:52:58.219077Z",
     "start_time": "2018-04-15T15:52:58.214089+02:00"
    }
   },
   "outputs": [
    {
     "data": {
      "text/plain": [
       "'   Kale Frittata - A Healthy Breakfast Casserole Colorado Denver Foodblog German recipes My Kitchen in the Rockies | A Denver, Colorado Food Blog               .socialwrap li.icon_text a img, .socialwrap li.iconOnly a img, .followwrap li.icon_text a img, .followwrap li.iconOnly a img{border-width:0 !important;background-color:none;}#follow.left {width:56px;position:fixed; left:0; top:100px;padding:10px 0;font-family:impact,charcoal,arial, helvetica,sans-serif;-moz-border-radius-topright: 5px;-webkit-border-top-right-radius:5px;-moz-border-radius-bottomright:5px;-webkit-border-bottom-right-radius:5px;}#follow.left ul {padding:0; margin:0; list-style-type:none !important;font-size:24px;color:black;} #follow.left ul li {padding-bottom:12px;list-style-type:none !important;padding-left:4px;padding-right:4px} #follow img{border:none;}#follow.left ul li.followme {margin:0 4px;} #follow.left ul li.followme img {border-width:0;display:block;overflow:hidden; background:transparent url(http://www.mykitchenintherockies.com/wp-content/plugins/share-and-follow/images/impact/followme-left.png) no-repeat -84px 0px;height:114px;width:20px;} #follow.left ul li a {display:block;} #follow.left ul li.followme span, #follow ul li a span {display:none}.share {margin:0 3px 3px 0;} ul.row li {float:left;list-style-type:none;list-style:none;} li.iconOnly a span.head {display:none} #follow.left ul.size16 li.follow{margin:0px auto !important} li.icon_text a {padding-left:0;margin-right:3px} li.text_only a {background-image:none !important;padding-left:0;} li.text_only a img {display:none;} li.icon_text a span{background-image:none !important;padding-left:0 !important; } li.iconOnly a span.head {display:none} ul.socialwrap li {margin:0 3px 3px 0 !important;} ul.socialwrap li a {text-decoration:none;}ul.row li {float:left;line-height:auto !important;} ul.row li a img {padding:0}.size16 li a,.size24 li a,.size32 li a, .size48 li a, .size60 li a {display:block}ul.socialwrap {list-style-type:none !important;margin:0; padding:0;text-indent:0 !important;} ul.socialwrap li {list-style-type:none !important;background-image:none;padding:0;list-style-image:none !important;} ul.followwrap {list-style-type:none !important;margin:0; padding:0} ul.followwrap li {margin-right:3px;margin-bottom:3px;list-style-type:none !important;} #follow.right ul.followwrap li, #follow.left ul.followwrap li {margin-right:0px;margin-bottom:0px;} .shareinpost {clear:both;padding-top:0px}.shareinpost ul.socialwrap {list-style-type:none !important;margin:0 !important; padding:0 !important} .shareinpost ul.socialwrap li {padding-left:0 !important;background-image:none !important;margin-left:0 !important;list-style-type:none !important;text-indent:0 !important} .socialwrap li.icon_text a img, .socialwrap li.iconOnly a img{border-width:0}ul.followrap li {list-style-type:none;list-style-image:none !important;} div.clean {clear:left;} div.display_none {display:none;} .button_holder_bottom,.button_holder_left{margin-right:5px;display:inline}.button_holder_right{margin-left:5px;display:inline}.button_holder_show_interactive {display:inline;margin-right:5px;}.button_holder_bottom iframe,.button_holder_left iframe,.button_holder_right iframe,.button_holder_show_interactive iframe{vertical-align:top}.tall *[id*=\\'___plusone\\']{position:relative;top:-12px}   .socialwrap li.icon_text a img, .socialwrap li.iconOnly a img, .followwrap li.icon_text a img, .followwrap li.iconOnly a img{border-width:0 !important;background-color:none;}#follow.left {width:56px;position:fixed; left:0; top:100px;padding:10px 0;font-family:impact,charcoal,arial, helvetica,sans-serif;-moz-border-radius-topright: 5px;-webkit-border-top-right-radius:5px;-moz-border-radius-bottomright:5px;-webkit-border-bottom-right-radius:5px;}#follow.left ul {padding:0; margin:0; list-style-type:none !important;font-size:24px;color:black;} #follow.left ul li {padding-bottom:12px;list-style-type:none !important;padding-left:4px;padding-right:4px} #follow img{border:none;}#follow.left ul li.followme {margin:0 4px;} #follow.left ul li.followme img {border-width:0;display:block;overflow:hidden; background:transparent url(http://www.mykitchenintherockies.com/wp-content/plugins/share-and-follow/images/impact/followme-left.png) no-repeat -84px 0px;height:114px;width:20px;} #follow.left ul li a {display:block;} #follow.left ul li.followme span, #follow ul li a span {display:none}.share {margin:0 3px 3px 0;} ul.row li {float:left;list-style-type:none;list-style:none;} li.iconOnly a span.head {display:none} #follow.left ul.size16 li.follow{margin:0px auto !important} li.icon_text a {padding-left:0;margin-right:3px} li.text_only a {background-image:none !important;padding-left:0;} li.text_only a img {display:none;} li.icon_text a span{background-image:none !important;padding-left:0 !important; } li.iconOnly a span.head {display:none} ul.socialwrap li {margin:0 3px 3px 0 !important;} ul.socialwrap li a {text-decoration:none;}ul.row li {float:left;line-height:auto !important;} ul.row li a img {padding:0}.size16 li a,.size24 li a,.size32 li a, .size48 li a, .size60 li a {display:block}ul.socialwrap {list-style-type:none !important;margin:0; padding:0;text-indent:0 !important;} ul.socialwrap li {list-style-type:none !important;background-image:none;padding:0;list-style-image:none !important;} ul.followwrap {list-style-type:none !important;margin:0; padding:0} ul.followwrap li {margin-right:3px;margin-bottom:3px;list-style-type:none !important;} #follow.right ul.followwrap li, #follow.left ul.followwrap li {margin-right:0px;margin-bottom:0px;} .shareinpost {clear:both;padding-top:0px}.shareinpost ul.socialwrap {list-style-type:none !important;margin:0 !important; padding:0 !important} .shareinpost ul.socialwrap li {padding-left:0 !important;background-image:none !important;margin-left:0 !important;list-style-type:none !important;text-indent:0 !important} .socialwrap li.icon_text a img, .socialwrap li.iconOnly a img{border-width:0}ul.followrap li {list-style-type:none;list-style-image:none !important;} div.clean {clear:left;} div.display_none {display:none;} .button_holder_bottom,.button_holder_left{margin-right:5px;display:inline}.button_holder_right{margin-left:5px;display:inline}.button_holder_show_interactive {display:inline;margin-right:5px;}.button_holder_bottom iframe,.button_holder_left iframe,.button_holder_right iframe,.button_holder_show_interactive iframe{vertical-align:top}.tall *[id*=\\'___plusone\\']{position:relative;top:-12px}     Kale Frittata - A Healthy Breakfast Casserole                   {\"@context\":\"http:\\\\/\\\\/schema.org\",\"@type\":\"WebSite\",\"url\":\"http:\\\\/\\\\/www.mykitchenintherockies.com\\\\/\",\"name\":\"My Kitchen in the Rockies | A Denver, Colorado Food Blog\"}                      //&lt;![CDATA[ jQuery(document).ready(function() { function tabAction(){ if (jQuery(window).width() &lt;= 640 ){ if (jQuery(\"div#follow\").hasClass(\\'display_none\\')){} else {jQuery(\"div#follow\").addClass(\\'display_none\\')} } else { if (jQuery(\"div#follow\").hasClass(\\'display_none\\')){jQuery(\"div#follow\").removeClass(\\'display_none\\')} } } tabAction(); jQuery(window).resize(function() { tabAction(); }); }); //]]&gt;                       Home     Conversion Tables     High Altitude Baking     Shop Locally     About       My Kitchen in the Rockies | A Denver, Colorado Food Blog         Home     Breakfast     Desserts     Cakes     Cookies, Cupcakes & Muffins     Misc. Sweets       German Dishes     Cakes & Sweets     Savory Dishes       Main Dishes     Beef & Bison     Chicken     Misc. Savory Dishes     Pasta     Pork & Lamb     Seafood       Soups & Salads     Salads     Soups       Starters & Sides     Beverages     Sides     Starters       Travel     France     Germany     USA           Kale Frittata A Healthy Breakfast Casserole   by  Kirsten  on  October 14, 2012    43 comments     in   Breakfast  ,  Main Dishes  ,  Misc. Savory Dishes  ,  Starters  ,  Starters & Sides                 Tweet                     I finally found the perfect source to purchase eggs, lucky me! A local friend of my daughters riding instructor has lots of chickens and way too many eggs for her and her husband to eat all by themselves. Their chickens are spoiled with an insulated chicken house and heating lamps, so they stay cozy during cold winter nights. The animals receive excellent feed, which you can see in the color of the dark yellow egg yolk and the extremely hard shell. I am now on the weekly egg delivery list and with my very first batch I made frittata; to be specific, kale frittata with fresh Parmesan cheese and spicy pepperoni.   My family loves this kale frittata and they are always happy when they see it on the menu. It is simple and quick to prepare, but also a very healthy and hardy meal. Perfect for breakfast or dinner. Enjoy!              Kale Frittata - A Healthy Breakfast Casserole          5.0  from  5  reviews        Print         Recipe type:  main, entree, breakfast    Cuisine:  Italian    Author:  Kirsten | My Kitchen in the Rockies    Prep time:  15 mins    Cook time:  20 mins    Total time:  35 mins    Serves:  4     Ingredients    8 large organic eggs   3 tablespoons freshly grated Pecorino Romano or Parmesan cheese, divided   teaspoon coarse kosher salt   teaspoon freshly ground black pepper   3 tablespoons extra-virgin olive oil   1 medium onion, thinly sliced   1 bunch organic Kale or Red chard (about 10 ounces), stems and center ribs cut away, leaves coarsely chopped   2 ounces pepperoni or thinly sliced Italian spicy salami, cut into -inch pieces (about cup)   1 garlic clove, minced      Instructions    Preheat broiler.   Whisk all the eggs, 1 tablespoons cheese, teaspoon salt, and teaspoon pepper in large bowl.   Heat olive oil in medium nonstick broiler-proof skillet over medium heat. Add onion and saut until tender but not brown, about 6 minutes.   Add Kale/ Red chard in 3 batches; toss until each begins to wilt before adding next. Sprinkle with salt and pepper. Saut until any liquid in skillet evaporates. Increase heat to medium-high; add salami and garlic to skillet and stir 1 minute. Add eggs to skillet; stir to distribute evenly. Reduce heat to medium-low, cover, and cook until eggs are almost set but still moist in center, about 4 minutes. Sprinkle remaining 1 tablespoons cheese over top.   Transfer frittata to broiler and cook just until set in center and beginning to brown, about 1 minute.   Using flexible spatula, loosen frittata around edges. Slide frittata out onto platter. Serve warm or at room temperature.      Wordpress Recipe Plugin by  EasyRecipe     3.1.02            &lt;!-- //LinkWithinCodeStart var linkwithin_site_id = 1122587; var linkwithin_div_class = \"linkwithin_hook\"; //LinkWithinCodeEnd --&gt;            Bookmark on Delicious       Digg this post       Recommend on Facebook       Share via MySpace       Save on Pinterest       share via Reddit       Share with Stumblers       Tumblr it       Tweet about it       Subscribe to the comments on this post       Print for later       Tell a friend                        Tagged as:  eggs  ,  garlic  ,  Kale  ,  pepperoni         {   28  comments  }          Gemma Hudson    February 6, 2014 at 11:33 pm       Hi Kirsten,  Ive only recently discovered the super food kale and was looking for some recipe inspiration so thank-you! I cooked up your lovely frittata for breakfast this morning delicious!  Im in the infant stages of setting up my own healthy lifestyle blog. How would you feel if I did a featured post on this very recipe, giving you full credit and links back to your website?  Let me know,  Cheers!   Gemma           Kirsten    February 7, 2014 at 7:07 am       Hi Gemma, You are very welcome to use this recipe for a blog post. It would be nice if you would stay within the copyright laws. That means, please write your own directions for the recipe and feature your own pictures. I am glad you like the kale frittata. Best of luck with your new blog. Kirsten           Gemma Hudson    February 7, 2014 at 9:36 pm       Perfect! Yes, Ill stick to those guidelines. Thanks so much.                  Anjali     September 28, 2013 at 10:16 am       Love the pictures , will try the recipe soon           Kerry    September 10, 2013 at 1:31 pm       Why do you choose coarse salt?           Kirsten    September 10, 2013 at 8:18 pm       Kerry, thats what I usually have on hand.                Des @ Life\\'s Ambrosia     July 24, 2013 at 3:29 pm       I am all over this for breakfast this weekend. I have so much kale in my garden and this would be the perfect way to use it!           Lauren    June 26, 2013 at 7:26 pm       This looks like a delicious recipe! Is there an ingredient I can use instead of the cheese? I have several family members who are lactose intolerant and and I would love to make this recipe for them, dairy-free.           Kirsten    July 7, 2013 at 10:53 am       Lauren, maybe some of these cheese substitutes would work:  http://www.veganstore.com/category/vegan-cheese-and-dairy-alternatives                 kati @ knitbabies     June 7, 2013 at 5:59 am       ive been obsessed with kale latelyespecially with my eggs in the morning. this looks like the perfect recipe for me. thank you for sharing!           KathyS    May 24, 2013 at 8:39 am       Oh, Yum, this sounds delicious!!!! Memorial Day weekend is very bust around here and I make all sorts of fridge food to heat in microwave as everybody comes and goes. I need to go get some kale but I have everything else and will try this tomorrow (Saturday) Thanks for the new dish!!!               Jenifer    May 2, 2013 at 7:25 pm       What is the caloric/fat/sodium count for this dish?           Kirsten    May 3, 2013 at 3:44 pm       Hi Jenifer, I am sorry. I am not providing this info on my blog with my recipes. There are programs on the net that help you to convert the ingredients list. Hope that helps. Thanks for contacting me. Kirsten             Suzi    April 16, 2013 at 8:47 am       This was absolutely wonderful! My daughter has gestational diabetes and this was a wonderful use of all protein without carbs!           Tina    April 1, 2013 at 8:38 am       I have made this frittata twice now, once with spicy salami and today with cherry tomatoes instead, and it has been amazing both times! Kale is so intimidating to cook with but this recipe is simple but wonderful. Thank you so much!               Kirsten    April 2, 2013 at 8:53 pm       All vegetarian with the tomatoes, LOVING IT!! I am very happy you like this recipe, too. You know, my teens are thrilled when this frittata is on the dinner menu. For me that says it all.             Earline Surratt    February 20, 2013 at 7:16 am       This look wonderfulI find the more I eat healthy the more I healthy I want.thanks for sharing.Send me the receipt..              Ellie     January 22, 2013 at 11:14 pm       I made this the other day (but in the oven) and it was fabulous. Thanks for the recipe!           Carol    February 14, 2013 at 12:00 pm       I want to try this in the oven since I really dont have a pan that can go from stovetop to broiler. What temperature and how long did you bake this for?             Paul    December 30, 2012 at 9:23 am       I really enjoyed this recipe, thanks.   I did a bit of improv since I didnt have any salami.  Instead I diced some chorizo and sauteed that for a while, let it cool then added it to the egg mix along with the kale.  I also sauteed small cubes of potato, in the same pan the chorizo was cooked in, and added 1tsp smoked paprika, before adding that too.               Brittany Sage    October 19, 2012 at 1:35 pm       Hi! Thanks so much for this delicious recipe! I made it this morning and it is So good! It is my first frittata! My husband and I love Kale and I wanted to share his recipe for this yummy kale salad with you!  http://lipstickandleopardprint.com/2012/02/07/kale-salad/   Cheers!              Carlos     October 19, 2012 at 2:57 am       I am not a Kale person; but, this looks great! Frittatas are very close to my heart Potato frittata specially or Tortilla Espanola how my mother referred it by name.  Wonderful pictures!           Sivie    October 17, 2012 at 2:06 pm       Deine Frittata sieht sehr lecker aus. Kannst du sagen was fr eine Sorte Kohl du verwendest. Sieht ja anders aus, als unser Grnkohl.              Julia | JuliasAlbum.com     October 15, 2012 at 6:30 pm       So healthy, and frittata looks so beautiful on your photos!              Ashley     October 15, 2012 at 1:44 pm       This looks amazing I cant get enough of kale these days! So good.              Sue/the view from great island     October 14, 2012 at 6:01 pm       Great recipe, and beautifully photographed. I had my first fresh eggs about a year ago and couldnt get over the difference. I have trouble finding them, though.  My husband was just telling me he wanted to buy kale, and then your post pops up! Perfect timing              Susan     October 14, 2012 at 3:03 pm       I made a frittata this week too! I must say the kale looks wonderful and I know what my next one will be (sans the pepperoni, though). XOXO                  Dominic     October 14, 2012 at 12:37 pm       absolutely stunning! I want this NOW really love the pictures at first I thought there was smoked salmon in there, which would be lovely, but I see that it is indeed sausage, which is even better gorgeous!             Comments on this entry are closed.      {   15  trackbacks  }       Kale Frittata A Healthy Breakfast Casserole Colorado Denver | Healthy Easy Cooking     Vegan & Vegetarian Casserole Recipes For Christmas Brunch Or Breakfast     52 Healthy Breakfast Ideas     10 Twists on Breakfast: Healthy and Quick Morning Meals     Recipes I want to try | Why I got fat, and what I\\'m doing about it     Kale frittata | Why I got fat, and what I\\'m doing about it     late afternoons: Breakfast Bucket List     Kale Frittata |     Kale Frittata A healthy breakfast or dinner idea!     Kale Frittata | Full Fork Ahead     Ten Meatless Recipes to Satisfy Everyone     50 Kale Recipes | Wunda Woman Wellness     GET IN MY BELLY: 33 Recipes for Kale, the Superfood Du Jour | Dopalicious District     Top 10 Casserole Recipes | foodgio     Redfearn Farm CSA Week 2- Independence, MO and Lee\\'s Summit, MO -       Previous post:  Lets grab the Sauerbraten and RUN!    Next post:  Pumpkin Cookies with Browned Butter Frosting                  Recent Posts     The Perfect Sour Cream Cheesecake     Chocolate Banana Streusel Cake     Lemon Olive Oil Pound Cake     Happy Holidays Spiced Cranberry Bundt Cake     D Bar Denver reopening this Friday               Archives    Select Month   April 2015   February 2015   January 2015   December 2014   November 2014   September 2014   July 2014   June 2014   May 2014   April 2014   March 2014   February 2014   January 2014   December 2013   November 2013   October 2013   September 2013   August 2013   July 2013   June 2013   May 2013   April 2013   March 2013   February 2013   January 2013   December 2012   October 2012   September 2012   August 2012   July 2012   June 2012   May 2012   April 2012   March 2012   February 2012   January 2012   December 2011   November 2011   October 2011   September 2011   August 2011   June 2011   May 2011   April 2011   March 2011   February 2011   January 2011   December 2010   June 2010        October 2012     M   T   W   T   F   S   S        Sep       Dec        1   2   3   4    5    6   7     8   9   10   11   12   13    14      15   16   17   18    19    20   21     22   23   24   25   26   27   28     29   30   31             &lt;!-- document.write (\"&lt;input name=u value=\"+location.href+\" type=hidden&gt;\") // --&gt;                                         My recipes featured on     foodgawker   tastespotting   tasteologie       dessertalking   rezeptebuch   food   ily    foodporn   yummly   foodbuzz    huffington post    bon apptit                 Tags    allspice   almonds   apples   beans   beef   brown sugar   bundt   bundt cake   butter   carrots   cheese   cherries   chicken   chocolate   christmas   cinnamon   cranberries   cream   cream cheese   curry   eggs   garlic   german   ginger   giveaway   gruyere   hazelnuts   heavy cream   leek   lemon   Nutella   nutmeg   parmesan   potatoes   pumpkin   red wine   Restaurant   spinach   streusel   thyme   tomatoes   vanilla   walnuts   yeast   zucchini                    Get smart with the  Thesis WordPress Theme  from DIYthemes.    WordPress Admin             Get recipes via:       Receive recipes via email        Receive recipes via facebook        Receive recipes via feedburner        Join me on Pinterest        Receive recipes via twitter          (function(d, s, id) { var js, fjs = d.getElementsByTagName(s)[0]; if (d.getElementById(id)) return; js = d.createElement(s); js.id = id; js.src = \"//connect.facebook.net/en_US/all.js#xfbml=1&amp;appId=\"; fjs.parentNode.insertBefore(js, fjs); }(document, \\'script\\', \\'facebook-jssdk\\'));    !function(d,s,id){ var js,fjs=d.getElementsByTagName(s)[0]; if(!d.getElementById(id)){ js=d.createElement(s); js.id=id;js.src=\"//platform.twitter.com/widgets.js\"; fjs.parentNode.insertBefore(js,fjs); } }(document,\"script\",\"twitter-wjs\");    (function() { var po = document.createElement(\\'script\\'); po.type = \\'text/javascript\\'; po.async = true; po.src = \\'https://apis.google.com/js/plusone.js\\'; var s = document.getElementsByTagName(\\'script\\')[0]; s.parentNode.insertBefore(po, s); })();     (function() { var li = document.createElement(\\'script\\'); li.type = \\'text/javascript\\'; li.async = true; li.src = \\'https://platform.stumbleupon.com/1/widgets.js\\'; var s = document.getElementsByTagName(\\'script\\')[0]; s.parentNode.insertBefore(li, s); })();   window.___gcfg = {lang: \\'en-US\\'}; (function() { var po = document.createElement(\\'script\\'); po.type = \\'text/javascript\\'; po.async = true; po.src = \\'https://apis.google.com/js/plusone.js\\'; var s = document.getElementsByTagName(\\'script\\')[0]; s.parentNode.insertBefore(po, s); })();    Copyright 2010-2015, My Kitchen In the Rockies | K. Hall. All Rights Reserved      var _gaq = _gaq || []; _gaq.push([\\'_setAccount\\', \\'UA-28906429-1\\']); _gaq.push([\\'_trackPageview\\']); (function() { var ga = document.createElement(\\'script\\'); ga.type = \\'text/javascript\\'; ga.async = true; ga.src = (\\'https:\\' == document.location.protocol ? \\'https://ssl\\' : \\'http://www\\') + \\'.google-analytics.com/ga.js\\'; var s = document.getElementsByTagName(\\'script\\')[0]; s.parentNode.insertBefore(ga, s); })();    '"
      ]
     },
     "execution_count": 591,
     "metadata": {},
     "output_type": "execute_result"
    }
   ],
   "source": [
    "htmldoc.find('body')"
   ]
  },
  {
   "cell_type": "markdown",
   "metadata": {},
   "source": [
    "----"
   ]
  },
  {
   "cell_type": "markdown",
   "metadata": {},
   "source": [
    "Applications utilising Natural Language Processing (NLP) have recently gained alot of traction partly due to advances in artificial neural networks. One especially tricky problem for NLP however begins before you even get to the \"processing\" part, namely the deduplication of the incoming document stream.\n",
    "\n",
    "Online platforms such as recommender systems as well as comment forums and user feedback systems all face the problem of detecting which documents are duplicates of each other. As many NLP tasks tend to be computationally expensive it is desirable to only apply those processes to new documents. The class label or action taken upon seeing a duplicate document is likely the same as that for the original.\n",
    "\n",
    "It is also important to keep duplicates out of your training data to prevent them from unfairly biasing the trained model. The prevalence of certain document features and their relation to the task at hand can be severly biased by multiple duplicate entried of the same document or documents.\n",
    "\n",
    "How do you determine if a document is a duplicate or more importantly a _near_ duplicate? Ideally the method of deduplication would work online and have predictable resource requirements. As always the faster the model works the better, especially at decoding time, that is when the model is being applied to new unseen instances.\n",
    "\n",
    "I will first outline a simple and effective way of detecting near duplicates: character shingles and Jaccard similarity. I'll then discuss ways of making that process computationally feasible using locality sensitive hashing with minhash. Before we get to the nitty gritty of detecting near duplicates let's first consider where duplicate documents come from and what it means for an article to be a near duplicate.\n",
    "\n",
    "# Document Similarity and Duplicates\n",
    "\n",
    "When we talk about similar documents we usually mean documents that are semantically related, for instance two different news articles about the same event. There are a number of ways for determining the semantic relatedness of documents, for instance Latent Dirichlet Allocation (LDA) or neural language models. The semantic relatedness however is not what I mean by near duplicate documents. Near duplicates are not two different takes on one event but explicitly the same article duplicated across different channels. Near duplicate documents are of course also semantically related but it is important to make the distinction. \n",
    "\n",
    "Semantic similarity of documents is relatively easy for humans to detect but extremely difficult to do algorithmically, especially for longer documents. The main area of research here is distributional semantics, specifically distributional composition. In short distributional composition is about how the semantics of individual words should be composed together to form a semantic represenatation of larger pieces of text like sentences and documents, neural language models are one example of this.\n",
    "\n",
    "Distributional composition is an active area of research and I won't focus on it here, if you're interested you'll probably want to look at the publications coming out of [ACL](http://www.aclweb.org/anthology/P/P16/), [TACL](https://www.transacl.org/ojs/index.php/tacl), [EMLNP](http://www.aclweb.org/anthology/D/D16/) and [NIPS](https://nips.cc/Conferences/2016). The second and much simpler kind of similarity is character based similarity, which quite simply measures the character overlap between two sentences or documents. It is good practice for any budding data scientist to start with the simplest possible method to establish a baseline before moving to more complex methods, therefore I'll focus on character based similarity and see how far that gets us.\n",
    "\n",
    "# Where Do Duplicates Come From?\n",
    "\n",
    "Duplicates are often produced in news media when a content producer like Reuters or the Associated Press distributes an article to a number publishers. Each publisher will typically add a paragraph or a footer making each copy slightly different from each other. A web crawler that monitors the sites of the individual publishers will see many near duplicate articles as each copy was essentially written by Reuters and only slightly modified by the other publishers. \n",
    "\n",
    "Duplicate news articles also tend to come in the form of updated news stories. Typically publishers will use an older version of the article and add a paragraph or two in the beginning with the new updated information, the rest of the article typically remains unchanged.\n",
    "\n",
    "Near duplicates can also appear in user feedback systems in the event of a system or process failure. The feedback system will suddenly log a number of a documents created by different users that all look roughly similar. Product or service review sites can also experience this, possibly in the form of spam reviews being posted by automated systems.\n",
    "\n",
    "Another interesting data set that potentially contains duplicates is the recently released [Quora Question Pairs](https://data.quora.com/First-Quora-Dataset-Release-Question-Pairs) dataset. Here the aim is specifically to find questions that are semantically the same, but often those questions are just slighty paraphrased ones. \n",
    "\n",
    "## Paul Jaccard and Roofing\n",
    "\n",
    "Now that we know where near duplicated come from and how they differ from documents that are semantically related, let's outline how one could go about detecting them.\n",
    "\n",
    "The method relies on two simple concepts, character shingles and the Jaccard similarity. 'Shingle' is a term that comes from roofing and refers to partially overlapping pieces of clay, stone, wood, asphalt or some such bits of roofing material.\n",
    "\n",
    "![](../assets/610px-Heinola_paanukatto.jpg)"
   ]
  },
  {
   "cell_type": "markdown",
   "metadata": {},
   "source": [
    "The idea for character shingles is similar, create a document representation of consecutive overlapping character n-grams from each document. \"Cat sat on the mat\", when 4-shingled becomes (`'The '`, `'he c'`, `'e ca'`, `' cat'`, ... ,`'at.'`). Notice that punctuation and whitespace are all part of the process. This represenatation preserves word order, to some extent, and allows comparing documents based on the sets of character shingles. The similarity of those documents can then simply be defined as the Jaccard similarity of the two sets of shingles; the number of elements (shingles) they have in common as a proportion of the combined size of the two sets, or the size of the intersection divided by the size of the union. \n",
    "\n",
    "For two dummy sentences let's see how the length of the character shingle effects the similarity of the documents. We'll use `python`'s `matplotlib` and `seaborn` libraries to plot the similarities."
   ]
  },
  {
   "cell_type": "code",
   "execution_count": 1,
   "metadata": {
    "ExecuteTime": {
     "end_time": "2017-05-27T18:53:14.819087Z",
     "start_time": "2017-05-27T20:53:14.197737+02:00"
    }
   },
   "outputs": [
    {
     "data": {
      "image/png": "[encoded data removed]",
      "text/plain": [
       "<matplotlib.figure.Figure at 0x7f78c452f630>"
      ]
     },
     "metadata": {},
     "output_type": "display_data"
    }
   ],
   "source": [
    "%matplotlib inline\n",
    "from matplotlib import pyplot as plt\n",
    "import seaborn as sns\n",
    "\n",
    "s1 = \"The cat sat on the mat.\"\n",
    "s2 = \"The red cat sat on the mat.\"\n",
    "\n",
    "similarities = []\n",
    "for shingle_size in range(2, 6):\n",
    "    shingles1 = set([s1[max(0, i - shingle_size):i] for i in range(shingle_size, len(s1) + 1)])\n",
    "    shingles2 = set([s2[max(0, i - shingle_size):i] for i in range(shingle_size, len(s2) + 1)])\n",
    "    jaccard = len(shingles1 & shingles2) / len(shingles1 | shingles2)\n",
    "    similarities.append(jaccard)\n",
    "\n",
    "fig, ax = plt.subplots(1, 1, figsize=(10, 8))\n",
    "_ = plt.bar([2,3,4,5], similarities, width=0.25)\n",
    "_ = plt.xlabel('Jaccard Similarity')\n",
    "_ = plt.ylabel('Shingle Size')"
   ]
  },
  {
   "cell_type": "markdown",
   "metadata": {},
   "source": [
    "Leaving aside the discussion of whether a red cat sitting on a mat is in fact a \"duplicate\" of a cat sitting on a mat, [what it means for something to be red](https://en.wikipedia.org/wiki/Qualia) or indeed a cat, I will declare those two \"documents\" as duplicates of each other. With a shingle size of 2 we get a similarity of `~0.81` (or 81%) and with a shingle size of 5 we get a similarity of `~0.62` or 62%.  \n",
    "\n",
    "The size of the shingle clearly has an impact on the effectiveness of this approach, one should however bear in mind that the two \"documents\" are very short especially in comparison to a shingle size of 5. The average word length in those two documents is just under 3, so a shingle size of 5 is actually comparing chunks that are bigger than single words. For longer documents that better reflect actual language usage the shingling will produce much more reasonable outputs. There are of course cases where this kind of character similarity will fail, let's explore those corner cases in a bit more detail.\n",
    "\n",
    "## Where Character Similarity Fails\n",
    "\n",
    "It is not difficult to come up with sentences that are semantically the same but share only a small proportion of their shingles, for example: \"What's the flight time from Berlin to Helsinki\" and \"How long does it take to fly from Berlin to Helsinki\" are semantically exactly the same but have very few words or character n-grams in common. On the other hand \"What's the flight time from Berlin to Helsinki\" and \"What's the flight time from Berlin to Oulu\" are semantically not the same but have a large character overlap."
   ]
  },
  {
   "cell_type": "code",
   "execution_count": 10,
   "metadata": {
    "ExecuteTime": {
     "end_time": "2017-05-23T10:57:12.920869Z",
     "start_time": "2017-05-23T12:57:12.910820+02:00"
    }
   },
   "outputs": [
    {
     "data": {
      "text/plain": [
       "0.30985915492957744"
      ]
     },
     "execution_count": 10,
     "metadata": {},
     "output_type": "execute_result"
    }
   ],
   "source": [
    "s1 = \"what's the flight time from Berlin to Helsinki?\"\n",
    "s2 = \"how long does it take to fly from Berlin to Helsinki?\"\n",
    "\n",
    "shingles1 = set([s1[max(0, i-4):i] for i in range(4, len(s1) + 1)])\n",
    "shingles2 = set([s2[max(0, i-4):i] for i in range(4, len(s2) + 1)])\n",
    "\n",
    "len(shingles1 & shingles2) / len(shingles1 | shingles2)"
   ]
  },
  {
   "cell_type": "code",
   "execution_count": 11,
   "metadata": {
    "ExecuteTime": {
     "end_time": "2017-05-23T10:57:41.501106Z",
     "start_time": "2017-05-23T12:57:41.490940+02:00"
    }
   },
   "outputs": [
    {
     "data": {
      "text/plain": [
       "0.7142857142857143"
      ]
     },
     "execution_count": 11,
     "metadata": {},
     "output_type": "execute_result"
    }
   ],
   "source": [
    "s1 = \"what's the flight time from Berlin to Helsinki?\"\n",
    "s2 = \"what's the flight time from Berlin to Oulu?\"\n",
    "\n",
    "shingles1 = set([s1[max(0, i-4):i] for i in range(4, len(s1) + 1)])\n",
    "shingles2 = set([s2[max(0, i-4):i] for i in range(4, len(s2) + 1)])\n",
    "\n",
    "len(shingles1 & shingles2) / len(shingles1 | shingles2)"
   ]
  },
  {
   "cell_type": "markdown",
   "metadata": {},
   "source": [
    "These two are again simple example sentences but it is important to understand where the limits of any particular method or technology lie. The initial exploration has already revealed a critical relationship between the length of the document and the length of the character shingle, suggesting that the method might not work so well for data that contains a lot of short one sentence documents, for instance tweets. Equally it's unlikely to work all that well for rephrased sentences or documents, the semantics of rephrased or summarised information should not change but the character representation will.\n",
    "\n",
    "This should all be fine however, as we've already defined the task to be about finding near duplicate documents not semantically similar ones, for document collections with longer documents this method should work very well.\n",
    "\n",
    "# A Real World Example \n",
    "\n",
    "## Deduplicating the Reuters RCV1 corpus [1]\n",
    "\n",
    "The Reuters Corpus, Volume 1 (RCV1) corpus is a commonly used resource for various NLP tasks, especially document classification. It was made available in 2000 by Reuters Ltd. and consists of ~800,000 english language news stories collected between August 20th 1996 and August 19th 1997 from the Reuters news wire.\n",
    "\n",
    "I've preprocessed the corpus so that it is all in a single file, one line per document. Each line has the format:\n",
    "\n",
    "    ITEMID<TAB>HEADLINE<SPACE>TEXT"
   ]
  },
  {
   "cell_type": "code",
   "execution_count": 31,
   "metadata": {
    "ExecuteTime": {
     "end_time": "2017-05-23T12:52:08.001869Z",
     "start_time": "2017-05-23T14:52:07.542790+02:00"
    },
    "scrolled": true
   },
   "outputs": [
    {
     "name": "stdout",
     "output_type": "stream",
     "text": [
      "806791 /usr/local/scratch/data/rcv1/headline.text.txt\r\n"
     ]
    }
   ],
   "source": [
    "!wc -l /usr/local/scratch/data/rcv1/headline.text.txt"
   ]
  },
  {
   "cell_type": "code",
   "execution_count": 32,
   "metadata": {
    "ExecuteTime": {
     "end_time": "2017-05-23T12:52:11.615761Z",
     "start_time": "2017-05-23T14:52:11.422921+02:00"
    },
    "scrolled": true
   },
   "outputs": [
    {
     "name": "stdout",
     "output_type": "stream",
     "text": [
      "2286\tRecovery excitement brings Mexican markets to life.  Emerging evidence that Mexico's economy was back on the recovery track sent Mexican markets into a buzz of excitement Tuesday, with stocks closing at record highs and interest rates at 19-month lows. \"Mexico has been trying to stage a recovery since the beginning of this year and it's always been getting ahead of itself in terms of fundamentals,\" said Matthew Hickman of Lehman Brothers in New York. \"Now we're at the point where the fundamentals are with us. The history is now falling out of view.\" That history is one etched into the minds of all investors in Mexico: an economy in crisis since December 1994, a free-falling peso and stubbornly high interest rates. This week, however, second-quarter gross domestic product was reported up 7.2 percent, much stronger than most analysts had expected. Interest rates on governent Treasury bills, or Cetes, in the secondary market fell on Tuesday to 23.90 percent, their lowest level since Jan. 25, 1995. The stock market's main price index rallied 77.12 points, or 2.32 percent, to a record 3,401.79 points, with volume at a frenzied 159.89 million shares. Confounding all expectations has been the strength of the peso, which ended higher in its longer-term contracts on Tuesday despite the secondary Cetes drop and expectations of lower benchmark rates in Tuesday's weekly auction. With U.S. long-term interest rates expected to remain steady after the Federal Reserve refrained from raising short-term rates on Tuesday, the attraction of Mexico, analysts say, is that it offers robust returns for foreigners and growing confidence that they will not fall victim to a crumbling peso. \"The focus is back on Mexican fundamentals,\" said Lars Schonander, head of researcher at Santander in Mexico City. \"You have a continuing decline in inflation, a stronger-than-expected GDP growth figure and the lack of any upward move in U.S. rates.\" Other factors were also at play, said Felix Boni, head of research at James Capel in Mexico City, such as positive technicals and economic uncertainty in Argentina, which has put it and neighbouring Brazil's markets at risk. \"There's a movement out of South American markets into Mexico,\" he said. But Boni was also wary of what he said could be \"a lot of hype.\" The economic recovery was still export-led, and evidence was patchy that the domestic consumer was back with a vengeance. Also, corporate earnings need to grow strongly to justify the run-up in the stock market, he said. \r\n"
     ]
    }
   ],
   "source": [
    "!head -1 /usr/local/scratch/data/rcv1/headline.text.txt"
   ]
  },
  {
   "cell_type": "markdown",
   "metadata": {},
   "source": [
    "Some duplicate items are present in the corpus so let's see what happens when we apply LSH to it. First a helper function that takes a file pointer and some parameters for `minhash` and LSH and then finds duplicates."
   ]
  },
  {
   "cell_type": "code",
   "execution_count": 3,
   "metadata": {
    "ExecuteTime": {
     "end_time": "2017-05-27T18:55:11.930221Z",
     "start_time": "2017-05-27T20:55:11.909443+02:00"
    },
    "collapsed": true
   },
   "outputs": [],
   "source": [
    "import itertools\n",
    "\n",
    "# from lsh import lsh, minhash # https://github.com/mattilyra/lsh\n",
    "\n",
    "# a pure python shingling function that will be used in comparing\n",
    "# LSH to true Jaccard similarities\n",
    "def get_shingles(text, char_ngram=5):\n",
    "    return set(text[head:head + char_ngram] for head in range(0, len(text) - char_ngram))\n",
    "\n",
    "\n",
    "def jaccard(set_a, set_b):\n",
    "    intersection = set_a & set_b\n",
    "    union = set_a | set_b\n",
    "    return len(intersection) / len(union)"
   ]
  },
  {
   "cell_type": "markdown",
   "metadata": {},
   "source": [
    "Let's first try this pure `python` implementation on the first 500 documents."
   ]
  },
  {
   "cell_type": "code",
   "execution_count": 4,
   "metadata": {
    "ExecuteTime": {
     "end_time": "2017-05-27T18:55:14.008215Z",
     "start_time": "2017-05-27T20:55:13.750199+02:00"
    },
    "collapsed": true
   },
   "outputs": [],
   "source": [
    "shingles = []\n",
    "with open('/usr/local/scratch/data/rcv1/headline.text.txt', 'r') as fh:\n",
    "    for i_line, line in enumerate(fh):\n",
    "        if i_line > 500:\n",
    "            break\n",
    "        document_id, article_text = line.split('\\t', maxsplit=1)\n",
    "        shingles.append(get_shingles(article_text.lower()))"
   ]
  },
  {
   "cell_type": "code",
   "execution_count": 5,
   "metadata": {
    "ExecuteTime": {
     "end_time": "2017-05-27T18:55:26.082857Z",
     "start_time": "2017-05-27T20:55:14.783054+02:00"
    },
    "collapsed": true
   },
   "outputs": [],
   "source": [
    "duplicates = []\n",
    "for i_doc in range(len(shingles)):\n",
    "    for j_doc in range(i_doc + 1, len(shingles)):\n",
    "        jaccard_similarity = jaccard(shingles[i_doc], shingles[j_doc])\n",
    "        is_duplicate = jaccard_similarity >= 0.75\n",
    "        if is_duplicate:\n",
    "            duplicates.append((i_doc, j_doc, jaccard_similarity))"
   ]
  },
  {
   "cell_type": "code",
   "execution_count": 32,
   "metadata": {
    "ExecuteTime": {
     "end_time": "2017-05-27T19:18:30.777806Z",
     "start_time": "2017-05-27T21:18:30.758565+02:00"
    }
   },
   "outputs": [
    {
     "data": {
      "text/html": [
       "<div>\n",
       "<table border=\"1\" class=\"dataframe\">\n",
       "  <thead>\n",
       "    <tr style=\"text-align: right;\">\n",
       "      <th></th>\n",
       "      <th>Document ID</th>\n",
       "      <th>Document ID</th>\n",
       "      <th>Jaccard Similarity</th>\n",
       "    </tr>\n",
       "  </thead>\n",
       "  <tbody>\n",
       "    <tr>\n",
       "      <th>0</th>\n",
       "      <td>2</td>\n",
       "      <td>3</td>\n",
       "      <td>1.00</td>\n",
       "    </tr>\n",
       "    <tr>\n",
       "      <th>1</th>\n",
       "      <td>13</td>\n",
       "      <td>160</td>\n",
       "      <td>1.00</td>\n",
       "    </tr>\n",
       "    <tr>\n",
       "      <th>2</th>\n",
       "      <td>19</td>\n",
       "      <td>180</td>\n",
       "      <td>0.88</td>\n",
       "    </tr>\n",
       "    <tr>\n",
       "      <th>3</th>\n",
       "      <td>22</td>\n",
       "      <td>176</td>\n",
       "      <td>0.91</td>\n",
       "    </tr>\n",
       "    <tr>\n",
       "      <th>4</th>\n",
       "      <td>25</td>\n",
       "      <td>77</td>\n",
       "      <td>0.80</td>\n",
       "    </tr>\n",
       "    <tr>\n",
       "      <th>5</th>\n",
       "      <td>29</td>\n",
       "      <td>69</td>\n",
       "      <td>0.75</td>\n",
       "    </tr>\n",
       "    <tr>\n",
       "      <th>6</th>\n",
       "      <td>31</td>\n",
       "      <td>32</td>\n",
       "      <td>1.00</td>\n",
       "    </tr>\n",
       "    <tr>\n",
       "      <th>7</th>\n",
       "      <td>47</td>\n",
       "      <td>190</td>\n",
       "      <td>1.00</td>\n",
       "    </tr>\n",
       "    <tr>\n",
       "      <th>8</th>\n",
       "      <td>48</td>\n",
       "      <td>49</td>\n",
       "      <td>1.00</td>\n",
       "    </tr>\n",
       "    <tr>\n",
       "      <th>9</th>\n",
       "      <td>48</td>\n",
       "      <td>195</td>\n",
       "      <td>0.84</td>\n",
       "    </tr>\n",
       "  </tbody>\n",
       "</table>\n",
       "</div>"
      ],
      "text/plain": [
       "   Document ID  Document ID  Jaccard Similarity\n",
       "0            2            3                1.00\n",
       "1           13          160                1.00\n",
       "2           19          180                0.88\n",
       "3           22          176                0.91\n",
       "4           25           77                0.80\n",
       "5           29           69                0.75\n",
       "6           31           32                1.00\n",
       "7           47          190                1.00\n",
       "8           48           49                1.00\n",
       "9           48          195                0.84"
      ]
     },
     "metadata": {},
     "output_type": "display_data"
    }
   ],
   "source": [
    "import pandas as pd\n",
    "from IPython.display import display\n",
    "\n",
    "with pd.option_context('display.precision', 2):\n",
    "    display(pd.DataFrame(duplicates, columns=['Document ID', 'Document ID', 'Jaccard Similarity']).head(n=10))"
   ]
  },
  {
   "cell_type": "markdown",
   "metadata": {},
   "source": [
    "If we look at the documents themselves we can easily see how accurately the algorithm is detecting duplicate documents. Let's see what documents `2` and `3` look like. We don't really care what the first 6 character are as those are just the `document ID` and a `<TAB>`."
   ]
  },
  {
   "cell_type": "code",
   "execution_count": 26,
   "metadata": {
    "ExecuteTime": {
     "end_time": "2017-05-27T19:03:16.756102Z",
     "start_time": "2017-05-27T21:03:16.630005+02:00"
    }
   },
   "outputs": [
    {
     "name": "stdout",
     "output_type": "stream",
     "text": [
      "CompuServe reports loss, cutting work force.  CompuServe Corp. Tuesday reported a surprisingly large $29.6 million fiscal first-quarter loss, blaming a decline in the number of subscribers to the No. 2 online service and spending on a new family-oriented service and improvements. CompuServe predicted a second-quarter loss but said earnings wou\r\n",
      "CompuServe reports loss, cutting work force.  CompuServe Corp. Tuesday reported a surprisingly large $29.6 million fiscal first-quarter loss, blaming a decline in the number of subscribers to the No. 2 online service and spending on a new family-oriented service and improvements. CompuServe predicted a second-quarter loss but said earnings wou\r\n"
     ]
    }
   ],
   "source": [
    "!head -4 /usr/local/scratch/data/rcv1/headline.text.txt | tail -2 | cut -c 6-350"
   ]
  },
  {
   "cell_type": "markdown",
   "metadata": {},
   "source": [
    "Judging by the first 350 characters of the articles it would seem that the documents are indeed exact duplicates. Let's see what near duplicates look like, this time we'll take documents `25` and `77` which have been assigned a similarity score of `0.80` or `80%`."
   ]
  },
  {
   "cell_type": "code",
   "execution_count": 27,
   "metadata": {
    "ExecuteTime": {
     "end_time": "2017-05-27T19:04:41.937358Z",
     "start_time": "2017-05-27T21:04:41.825368+02:00"
    }
   },
   "outputs": [
    {
     "name": "stdout",
     "output_type": "stream",
     "text": [
      "Lloyd's chief undergoes U.S. grilling.  Lloyd's of London chief executive Ron Sandler on Tuesday faced a three-hour grilling in a crucial United States court case, which threatens at the last minute to upset a recovery plan for the 300-year-old insurance market. Tens of thousands of investors in Lloyd's worldwide are anxiously awaiting the outcome of the case in Virginia, where U.S. investors (Names) have applied for an injunction to stop th\r\n"
     ]
    }
   ],
   "source": [
    "!head -26 /usr/local/scratch/data/rcv1/headline.text.txt | tail -1 | cut -c 6-450"
   ]
  },
  {
   "cell_type": "code",
   "execution_count": 28,
   "metadata": {
    "ExecuteTime": {
     "end_time": "2017-05-27T19:04:45.334484Z",
     "start_time": "2017-05-27T21:04:45.211184+02:00"
    }
   },
   "outputs": [
    {
     "name": "stdout",
     "output_type": "stream",
     "text": [
      "Lloyd's braced for crucial U.S. court case ruling.  Lloyd's of London was braced on Tuesday for a possible ruling in a crucial United States court case, which threatens at the last minute to upset a recovery plan for the 300-year-old insurance market. Tens of thousands of investors in Lloyd's worldwide are anxiously awaiting the outcome of the case in Virginia, where U.S. investors (Names) have applied for an injunction to stop the recovery \r\n"
     ]
    }
   ],
   "source": [
    "!head -78 /usr/local/scratch/data/rcv1/headline.text.txt | tail -1 | cut -c 6-450"
   ]
  },
  {
   "cell_type": "markdown",
   "metadata": {},
   "source": [
    "There are more differences between the two, but they are essentially talking about the exact same thing. A few sentences have been paraphrased but otherwise the documents look identical. So the method seems to be working."
   ]
  },
  {
   "cell_type": "code",
   "execution_count": 29,
   "metadata": {
    "ExecuteTime": {
     "end_time": "2017-05-27T19:08:55.386785Z",
     "start_time": "2017-05-27T21:08:55.383759+02:00"
    }
   },
   "outputs": [
    {
     "data": {
      "text/plain": [
       "(36, 7.199999999999999)"
      ]
     },
     "execution_count": 29,
     "metadata": {},
     "output_type": "execute_result"
    }
   ],
   "source": [
    "len(duplicates), (len(duplicates) / 500) * 100"
   ]
  },
  {
   "cell_type": "markdown",
   "metadata": {},
   "source": [
    "Approximately 7 percent of the first 500 documents are in fact duplicates, that translates to about 56,000 duplicate documents in the relatively small 800,000 document dataset overall. The problem is that finding those duplicates took quite a long time as computing the Jaccard similarity of the documents requires comparing every document to every other document, this approach is clearly not scalable. This is where Locality Sensitive Hashing with `minhash` comes in.\n",
    "\n",
    "# Locality Sensitive Hashing\n",
    "\n",
    "Locality Sensitive Hashing (LSH) is a generic hashing technique that aims, as the name suggests, to preserve the local relations of the data while significantly reducing the dimensionality of the dataset. It can be used for computing the Jaccard similarities of elements as well as computing the cosine similarity depending on exactly which hashing function is selected, more on this later.\n",
    "\n",
    "LSH is a slightly strange hashing technique as it tries to _ensure_ hash collisions for similar items, something that hashing algorithms usually try to avoid. The overall aim is to reduce the number of comparisons needed to find similar items, the hash collisions come in handy here as similar documents have a high probability of having the same hash value. The hash values can be treated as an address for a bucket that contains likely duplicates, this reduces the number of comparisons needed as only the documents contained in a bucket, not every other document, need to be looked at to find the real duplicates.\n",
    "\n",
    "Locality sensitive hashing is great but it's not quite enough on its own. It would also be great if we could predict the computational requirements of the process overall. As it stands each document is shingled into some number of shingles, the exact number of which depends on the length of the document and the size of the shingle. Each document therefore has an unpredictable memory footprint, ideally we'd have a document representation whose size is independent of the length of the document without changing the semantics of document similarity.\n",
    "\n",
    "This is where `minhash` comes in, it's a specific hash function that has some desirable properties for this use case. Namely, it turns out that the probability of a hash collision for a `minhash` is exactly the Jaccard similarity of two sets. This can be seen by considering the two sets of shingles as a matrix. For two dummy documents the shingles could be represented as the table below (the zeros and ones indicate if a shingle is present in the document or not). For this discussion it doesn't matter what the actual shingles are, but notice that the Jaccard similarity of the documents is `2/5`, that is `2` out of `5` shingles (shingle IDs 2 and 4) are shared between the documents.\n",
    "\n",
    "\n",
    "<table width=\"300px\">\n",
    "<thead>\n",
    "<tr>\n",
    "<th colspan=\"4\" class=\"center\">Document Shingles</th>\n",
    "</tr>\n",
    "<tr> <th>row</th><th>shingle ID</th><th>Doc 1</th><th>Doc 2</th> </tr>\n",
    "</thead>\n",
    "<tbody class=\"center\">\n",
    "<tr> <td>1</td><td>1</td><td>0</td><td>1</td> </tr>\n",
    "<tr> <td>2</td><td>2</td><td>1</td><td>1</td> </tr>\n",
    "<tr> <td>3</td><td>3</td><td>0</td><td>1</td> </tr>\n",
    "<tr> <td>4</td><td>4</td><td>1</td><td>1</td> </tr>\n",
    "<tr> <td>5</td><td>5</td><td>1</td><td>0</td> </tr>\n",
    "<tr> <td>6</td><td>6</td><td>0</td><td>0</td> </tr>\n",
    "</tbody>\n",
    "</table>\n",
    "\n",
    "\n",
    "The `minhash` corresponds to a random permutation of the rows and gives back the row number where the first non zero entry is found. For the above table the `minhash` for documents one and two would thus be `2` and `1` respectively - meaning that the documents are not similar. The above table however is just one ordering of the shingles of each document. A different random permutation of the rows will give a different `minhash`, in this case `2` and `2`, making the documents similar.\n",
    "\n",
    "<table width=\"300px\">\n",
    "<thead>\n",
    "<tr>\n",
    "<th colspan=\"4\" class=\"center\">Document Shingles</th>\n",
    "</tr>\n",
    "<tr> <th>row</th><th>shingle ID</th><th>Doc 1</th><th>Doc 2</th> </tr>\n",
    "</thead>\n",
    "<tbody class=\"center\">\n",
    "<tr> <td>1</td><td>6</td><td>0</td><td>0</td> </tr>\n",
    "<tr> <td>2</td><td>2</td><td>1</td><td>1</td> </tr>\n",
    "<tr> <td>3</td><td>3</td><td>0</td><td>1</td> </tr>\n",
    "<tr> <td>4</td><td>1</td><td>0</td><td>1</td> </tr>\n",
    "<tr> <td>5</td><td>4</td><td>1</td><td>1</td> </tr>\n",
    "<tr> <td>6</td><td>5</td><td>1</td><td>0</td> </tr>\n",
    "</tbody>\n",
    "</table>\n",
    "\n",
    "A random permutation of the rows can produce any of `6! == 720` ([factorial](https://en.wikipedia.org/wiki/Factorial)) different orderings. However we only care about the orderings for which the two columns have the same lowest row number with a 1, that is `shingle ID` $$\\in \\{2, 4\\}$$. Since the rows with zeros on them don't count, there are 5 rows with a one on it in any column, and two rows with a 1 in both columns. All a random permutation can therefore do is put two out of the five rows in the lowest row number, in other words produce a hash collision with a probability `2/5`.\n",
    "\n",
    "The above explanation follows Chapter 3 of [Mining Massive Datasets](http://www.mmds.org) (Leskovec, Rajaraman and Ullman). An in depth explanation for why and how `minhash` works is provided there along with other interesting hash functions.\n",
    "\n",
    "Using `minhash` we can create a fixed length _fingerprint_ from each document, where each item in the fingerprint is a different random permutation of the rows. The longer the fingerprint the higher the likelihood that duplicate documents have a hash collision for at least one of the permutations. You're not guaranteed to get a collision, but you get to control the memory requirements of your document deduplication algorithm. The graph below shows the relation between the actual Jaccard similarity of a pair of documents and the probability it will be discovered for a few different parameter settings of LSH."
   ]
  },
  {
   "cell_type": "code",
   "execution_count": 4,
   "metadata": {},
   "outputs": [
    {
     "data": {
      "image/png": "[encoded data removed]",
      "text/plain": [
       "<matplotlib.figure.Figure at 0x10b8d3e80>"
      ]
     },
     "metadata": {},
     "output_type": "display_data"
    }
   ],
   "source": [
    "df = pd.DataFrame(data=[(2, 50), (50, 2), (10, 10), (5, 20), (20, 5)], columns=['pieces', 'size'])\n",
    "df['hashes'] = df['pieces'] * df['size']\n",
    "for pr in np.linspace(0, 1, 200):\n",
    "    df[pr] = 1 - (1 - pr**df['size']) ** df['pieces']\n",
    "\n",
    "df = pd.pivot_table(df, index=['hashes', 'pieces', 'size'])\n",
    "\n",
    "ax = df.T.plot(figsize=(10, 7), title='Probability of LSH finding a candidate pair');\n",
    "plt.ylabel('p(candidate | Jaccad)');\n",
    "plt.xlabel('Jaccard similarity');\n",
    "plt.legend(list(df.loc[ix[100]].index),\n",
    "           bbox_to_anchor=(1., 1, 1., 0), loc='upper left', fontsize=12, \n",
    "           ncol=1, borderaxespad=0., title='Each line shows the\\nfingerprint chopped\\ninto (pieces, size)\\n');"
   ]
  },
  {
   "cell_type": "markdown",
   "metadata": {},
   "source": [
    "The naive pure `python` implementation is quite slow and not really usable in production. I've made a much more robust implementation that utilizes `cython` and `murmurhash` for very fast and memory efficient creation of the document fingerprints, the implementation is freely available on github at [https://github.com/mattilyra/LSH](https://github.com/mattilyra/LSH).\n",
    "\n",
    "Here is what the document deduplication routine would look like using the `LSH` library with default settings."
   ]
  },
  {
   "cell_type": "code",
   "execution_count": null,
   "metadata": {
    "collapsed": true
   },
   "outputs": [],
   "source": [
    "import lsh\n",
    "from lsh import minhash\n",
    "\n",
    "# create a fingerprint of each document using\n",
    "# - 100 minhashes\n",
    "# - character ngrams of 5 characters\n",
    "# - a hash space of 32 bits (this impacts the probability of hash collisions)\n",
    "hasher = minhash.MinHasher(seeds=100, char_ngram=5, hashbytes=4)\n",
    "\n",
    "# create the LSH cache\n",
    "cache = lsh.Cache(bands=10, hasher=hasher)\n",
    "with open('/usr/local/scratch/data/rcv1/headline.text.txt', 'rb') as fh:\n",
    "    feed = itertools.islice(fh, 100)\n",
    "    for line in feed:\n",
    "        doc_id, doc = line.split('\\t', 1)\n",
    "        if not cache.is_duplicate(line):\n",
    "            cache.add_doc(line)\n",
    "        else:\n",
    "            duplicates = cache.get_duplicates_of(doc)\n",
    "            print(f'Document {doc_id} has {len(duplicates)} duplicates.')"
   ]
  }
 ],
 "metadata": {
  "celltoolbar": "Slideshow",
  "kernelspec": {
   "display_name": "Python 3",
   "language": "python",
   "name": "python3"
  },
  "language_info": {
   "codemirror_mode": {
    "name": "ipython",
    "version": 3
   },
   "file_extension": ".py",
   "mimetype": "text/x-python",
   "name": "python",
   "nbconvert_exporter": "python",
   "pygments_lexer": "ipython3",
   "version": "3.6.1"
  }
 },
 "nbformat": 4,
 "nbformat_minor": 1
}
