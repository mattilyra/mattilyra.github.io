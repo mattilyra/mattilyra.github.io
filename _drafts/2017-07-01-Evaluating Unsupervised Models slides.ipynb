{
 "cells": [
  {
   "cell_type": "markdown",
   "metadata": {
    "slideshow": {
     "slide_type": "slide"
    }
   },
   "source": [
    "# Evaluating Topic Models for Text\n",
    "\n",
    "### Matti Lyra\n",
    "\n",
    "### @mattilyra\n",
    "\n",
    "### github.com/mattilyra/pydataberlin-2017\n",
    "\n",
    "### mattilyra.github.io\n",
    "\n",
    "<center>\n",
    "<blockquote>\n",
    "The views and opinions expressed are mine and do not necessarily express those of PyData or NumFocus\n",
    "</blockquote>\n",
    "</center>\n",
    "\n",
    "<script>\n",
    "    var code_show=true; //true -> hide code at first\n",
    "    \n",
    "    function code_toggle() {\n",
    "        $('div.prompt').hide(); // always hide prompt\n",
    "        \n",
    "        if (code_show){\n",
    "            $('div.input_prompt').hide();\n",
    "        } else {\n",
    "            $('div.input_prompt').show();\n",
    "        }\n",
    "        code_show = !code_show\n",
    "    }\n",
    "    $( document ).ready(code_toggle);\n",
    "</script>"
   ]
  },
  {
   "cell_type": "markdown",
   "metadata": {
    "slideshow": {
     "slide_type": "subslide"
    }
   },
   "source": [
    "### Overview of what's available\n",
    "\n",
    "### Links to releveant literature and software\n",
    "\n",
    "### Intuition as to what the evaluation measure(s) aim to capture\n",
    "\n",
    "---\n",
    "\n",
    "- open source tools\n",
    "- open access research papers"
   ]
  },
  {
   "cell_type": "markdown",
   "metadata": {
    "slideshow": {
     "slide_type": "notes"
    }
   },
   "source": [
    "# Prior Knowledge\n",
    "\n",
    "- topic models\n",
    "- "
   ]
  },
  {
   "cell_type": "markdown",
   "metadata": {
    "slideshow": {
     "slide_type": "subslide"
    }
   },
   "source": [
    "Eye Balling models\n",
    "---\n",
    "    \n",
    "- top N words\n",
    "- topics / documents\n",
    "\n",
    "\n",
    "Intrinsic Evaluation Metrics\n",
    "---    \n",
    "- modelling corpus structure\n",
    "- interpretability of topics\n",
    "\n",
    "\n",
    "Human Judgements\n",
    "---    \n",
    "- what is a topic\n"
   ]
  },
  {
   "cell_type": "markdown",
   "metadata": {
    "slideshow": {
     "slide_type": "fragment"
    }
   },
   "source": [
    "Extrinsic Evaluation / Evaluation at a Task\n",
    "---"
   ]
  },
  {
   "cell_type": "markdown",
   "metadata": {
    "slideshow": {
     "slide_type": "slide"
    }
   },
   "source": [
    "# Topic Models\n",
    "\n",
    "- probability distribution over a vocabulary\n",
    "- document $\\rightarrow$ topic decomposition\n",
    "    - tweet, sentence, paragraph, news article, book chapter\n",
    "- models abound\n",
    "    - Latent Dirichlet Allocation (`Mallet`, `gensim`, `stmt` ...)\n",
    "    - Hierarchical Dirichlet Process (`gensim`)\n",
    "    - Spherical HDP (https://github.com/Ardavans/sHDP)\n",
    "    - Latent Semantic Analysis / Latent Semantic Indexing (`gensim`)\n",
    "    - pLSA\n",
    "\n",
    "--- \n",
    "\n",
    "### Why do you need to evaluate the model\n",
    "\n",
    "- has it captured the internal structure of the corpus\n",
    "- are the topic understandable\n",
    "- are the topics coherent\n",
    "- does it serve the purpose it is being used for\n",
    "    - to what extent does it serve that purpose"
   ]
  },
  {
   "cell_type": "markdown",
   "metadata": {
    "slideshow": {
     "slide_type": "skip"
    }
   },
   "source": [
    "> These do not seem like words that most fundamentally define ***X***\n",
    "\n",
    "\n",
    "`Monroe et. al\n",
    "Fightin' Words: Lexical Feature Selection and Evaluation for Identifying the Content of Political Conflict\n",
    "2008 Political Analysis`\n",
    "\n",
    "\n",
    "Related library\n",
    "----\n",
    "\n",
    "https://github.com/JasonKessler/scattertext\n"
   ]
  },
  {
   "cell_type": "markdown",
   "metadata": {
    "slideshow": {
     "slide_type": "skip"
    }
   },
   "source": [
    "# Topic Model Example"
   ]
  },
  {
   "cell_type": "markdown",
   "metadata": {
    "slideshow": {
     "slide_type": "subslide"
    }
   },
   "source": [
    "![](../assets/unsupervised-models/ideal-topics.png)"
   ]
  },
  {
   "cell_type": "markdown",
   "metadata": {
    "slideshow": {
     "slide_type": "notes"
    }
   },
   "source": [
    "The goodness of the model is a combination of things\n",
    "\n",
    "- has it captured the internal structure of the corpus\n",
    "- are the topic understandable\n",
    "- are the topics coherent\n",
    "- does it serve the purpose it is being used for\n",
    "    - to what extent does it serve that purpose"
   ]
  },
  {
   "cell_type": "markdown",
   "metadata": {
    "slideshow": {
     "slide_type": "skip"
    }
   },
   "source": [
    "# Topic Models\n",
    "\n",
    "Topic models aim to capture the way in which words occur in the context of a document and divide the source corpus into some number of (soft) clusters. The documents can be as short as a single sentence (a tweet) or as long as a chapter in a book. Typically the source corpus is news articles, wikipedia enties, forum posts, product reviews, scientific papers etc.\n",
    "\n",
    "The hope is to find human understandable categories like \"sport\", \"football\", \"travel\", \"machine learning\", \"deep learning\" and so on. The output of topic models however is never as clean as one would like. Furthermore there is no one single correct evaluation measure, or set of measure mainly because there is no one single definition for what a good model is.\n",
    "\n",
    "The goodness of the model is a combination of things\n",
    "\n",
    "- has it captured the internal structure of the corpus\n",
    "- are the topic understandable\n",
    "- are the topics coherent\n",
    "- does it serve the purpose it is being used for\n",
    "    - to what extent does it serve that purpose\n",
    "    \n",
    "If the topic model is being used for exploratory analysis of a dataset then the ultimate measure for the goodness of the mdoel is the utility / knowledge it provides for the experimenter. This is subjective and very hard to measure, is \"football\" closer to \"tennis\" than to \"cycling\"?\n"
   ]
  },
  {
   "cell_type": "markdown",
   "metadata": {
    "slideshow": {
     "slide_type": "notes"
    }
   },
   "source": [
    "This is what could be called a coherent interpretable model\n",
    "\n",
    "- all clusters are more or less self contained\n",
    "- related clusters _seem_ to be close together\n",
    "\n",
    "The problem here is that the \"model\" above is entirely made up, and the division is somewhat non sensical.\n",
    "\n",
    "*Topic Models* have a number of ways of being evaluated, including\n",
    "\n",
    "- perplexity (might not be such a great measure)\n",
    "    - Chang et. al Reading Tea Leaves: How Humans Interpret Topic Models, NIPS 2009\n",
    "    - Wallach et. al Evaluation Methods for Topic Models, ICML 2009 \n",
    "    - Lau et. al Machine Reading Tea Leaves: Automatically Evaluating Topic Coherence and Topic Model Quality, ACL 2014\n",
    "- topic coherence\n",
    "    - Röder et. al Exploring the Space of Topic Coherence Methods, Web Search and Data Mining 2015\n",
    "- human interpretability (word or topic intrusion)\n",
    "    - Machine Reading Tea Leaves: Automatically Evaluating Topic Coherence and Topic Model Quality\n",
    "- ontological similarity to link overlap and term co-occurrence (WordNet)\n",
    "- inter-annotator agreement on labels for topics\n",
    "- an external task\n",
    "    - information retrieval (Wei et. al LDA-Based Document Models for Ad-hoc Retrieval, 2006 SIGIR)\n",
    "    - sentiment analysis (Titov et. al A Joint Model of Text and Aspect Ratings for Sentiment Summarization, ACL 2008)"
   ]
  },
  {
   "cell_type": "markdown",
   "metadata": {
    "slideshow": {
     "slide_type": "subslide"
    }
   },
   "source": [
    "# Top N Words from a Topic Model\n",
    "\n",
    "<table border=\"1\" class=\"dataframe\">  <thead>    <tr style=\"text-align: right;\">      <th></th>      <th>5</th>      <th>6</th>      <th>7</th>      <th>8</th>      <th>9</th>      <th>10</th>      <th>11</th>      <th>12</th>    </tr>  </thead>  <tbody>    <tr>      <th>0</th>      <td>court</td>      <td>refugee</td>      <td>trump</td>      <td>pipeline</td>      <td>water</td>      <td>trump</td>      <td>clinton</td>      <td>people</td>    </tr>    <tr>      <th>1</th>      <td>judge</td>      <td>european</td>      <td>hillary</td>      <td>people</td>      <td>law</td>      <td>woman</td>      <td>hillary</td>      <td>year</td>    </tr>    <tr>      <th>2</th>      <td>british</td>      <td>europe</td>      <td>clinton</td>      <td>native</td>      <td>police</td>      <td>get</td>      <td>campaign</td>      <td>when</td>    </tr>    <tr>      <th>3</th>      <td>case</td>      <td>migrant</td>      <td>donald</td>      <td>land</td>      <td>use</td>      <td>election</td>      <td>trump</td>      <td>time</td>    </tr>    <tr>      <th>4</th>      <td>which</td>      <td>eu</td>      <td>election</td>      <td>access</td>      <td>state</td>      <td>clinton</td>      <td>foundation</td>      <td>there</td>    </tr>    <tr>      <th>5</th>      <td>federal</td>      <td>other</td>      <td>white</td>      <td>dakota</td>      <td>obama</td>      <td>hillary</td>      <td>bill</td>      <td>make</td>    </tr>    <tr>      <th>6</th>      <td>also</td>      <td>people</td>      <td>show</td>      <td>which</td>      <td>dakota</td>      <td>man</td>      <td>pay</td>      <td>new</td>    </tr>    <tr>      <th>7</th>      <td>charge</td>      <td>french</td>      <td>go</td>      <td>other</td>      <td>pipeline</td>      <td>’</td>      <td>president</td>      <td>world</td>    </tr>    <tr>      <th>8</th>      <td>trial</td>      <td>which</td>      <td>new</td>      <td>year</td>      <td>protester</td>      <td>go</td>      <td>news</td>      <td>now</td>    </tr>    <tr>      <th>9</th>      <td>rape</td>      <td>child</td>      <td>people</td>      <td>rock</td>      <td>government</td>      <td>would</td>      <td>wikileaks</td>      <td>take</td>    </tr>    <tr>      <th>10</th>      <td>jury</td>      <td>africa</td>      <td>campaign</td>      <td>there</td>      <td>people</td>      <td>just</td>      <td>money</td>      <td>would</td>    </tr>    <tr>      <th>11</th>      <td>aoun</td>      <td>camp</td>      <td>news</td>      <td>take</td>      <td>would</td>      <td>donald</td>      <td>also</td>      <td>which</td>    </tr>  </tbody></table>"
   ]
  },
  {
   "cell_type": "markdown",
   "metadata": {
    "slideshow": {
     "slide_type": "notes"
    }
   },
   "source": [
    "- topics are understandable\n",
    "- is this the best model possible?\n",
    "    - all the semantics of the corpus (missing topics)\n",
    "    - are all topics understandable and unique\n",
    "    - there is some repetition across the topics\n",
    "    - junk topics"
   ]
  },
  {
   "cell_type": "markdown",
   "metadata": {
    "slideshow": {
     "slide_type": "slide"
    }
   },
   "source": [
    "# Eye Balling Models\n",
    "\n",
    "- Chuang et. al *Termite: Visualization Techniques for Assessing Textual Topic Models*, AVI 2012\n",
    "- Chuang et. al *Topic Model Diagnostics: Assessing Domain Relevance via Topical Alignment*, ICML 2013\n",
    "- Sievert et. al *LDAVis: A method for visualizing and interpreting topics*, 2014"
   ]
  },
  {
   "cell_type": "markdown",
   "metadata": {
    "slideshow": {
     "slide_type": "subslide"
    }
   },
   "source": [
    "# pyLDAVis DEMO\n",
    "\n",
    "- Sievert et. al *LDAvis: A method for visualizing and interpreting topics* ACL 2014 (workshop) \n",
    "\n",
    "https://github.com/bmabey/pyLDAvis\n",
    "\n",
    "http://nbviewer.jupyter.org/github/bmabey/pyLDAvis/blob/master/notebooks/pyLDAvis_overview.ipynb\n",
    "\n",
    "### Detailed Talk by Ben Mabey\n",
    "\n",
    "https://www.youtube.com/watch?v=tGxW2BzC_DU"
   ]
  },
  {
   "cell_type": "markdown",
   "metadata": {
    "slideshow": {
     "slide_type": "notes"
    }
   },
   "source": [
    "1. Left side panel (TOPIC SPACE)\n",
    "    - size of circles\n",
    "    - location of circles\n",
    "2. Right hand panel (WORD SPACE)\n",
    "    - Words ranked proportional to term frequency in corpus\n",
    "3. Highlighting a word\n",
    "    - Relevant topics are highlighted\n",
    "4. Highlighting a topic\n",
    "    - Word list changes to those of the topic"
   ]
  },
  {
   "cell_type": "markdown",
   "metadata": {
    "slideshow": {
     "slide_type": "notes"
    }
   },
   "source": [
    "> We say a topic *resolves* to a concept if a one-to-one correspondence exists between the two, and recognize four types of misalignment: when models produce *junk* or *fused* topics or when reference concepts are *missing* or *repeated* among the latent topics. "
   ]
  },
  {
   "cell_type": "markdown",
   "metadata": {
    "slideshow": {
     "slide_type": "subslide"
    }
   },
   "source": [
    "# Stanford VIS Group\n",
    "\n",
    "![](../assets/unsupervised-models/termite.png)\n",
    "<footnote>Chuang et. al *Termite: Visualization Techniques for Assessing Textual Topic Models*, AVI 2012\n",
    "https://github.com/StanfordHCI/termite</footnote>"
   ]
  },
  {
   "cell_type": "markdown",
   "metadata": {
    "slideshow": {
     "slide_type": "notes"
    }
   },
   "source": [
    "- distinctiveness\n",
    "- saliency\n",
    "---\n",
    "- term ordering"
   ]
  },
  {
   "cell_type": "markdown",
   "metadata": {
    "slideshow": {
     "slide_type": "subslide"
    }
   },
   "source": [
    "- Chuang et. al *Topic Model Diagnostics: Assessing Domain Relevance via Topical Alignment*, ICML 2013\n",
    "- http://vis.stanford.edu/papers/topic-model-diagnostics\n",
    "\n",
    "![](../assets/unsupervised-models/topic-concept-correspondence.png)"
   ]
  },
  {
   "cell_type": "markdown",
   "metadata": {
    "slideshow": {
     "slide_type": "notes"
    }
   },
   "source": [
    "- reference concepts\n",
    "----\n",
    "1. junk\n",
    "2. fused\n",
    "3. missing\n",
    "4. repeated"
   ]
  },
  {
   "cell_type": "markdown",
   "metadata": {
    "slideshow": {
     "slide_type": "fragment"
    }
   },
   "source": [
    "$$ saliency(w) = \\mbox{how predictive is a term of any topic} $$"
   ]
  },
  {
   "cell_type": "markdown",
   "metadata": {
    "slideshow": {
     "slide_type": "fragment"
    }
   },
   "source": [
    "$$ relevance(w) = \\mbox{weight of term in a specific topic} $$"
   ]
  },
  {
   "cell_type": "markdown",
   "metadata": {
    "slideshow": {
     "slide_type": "skip"
    }
   },
   "source": [
    "---\n",
    "\n",
    "$$ \\begin{align}\n",
    "saliency(w) &= N_w D_{KL}(P(T|w))||P(T))\\\\\\\\\n",
    "&= N_w \\sum_T P(T | w) \\log \\frac{p(T|w)}{P(T)}\n",
    "\\end{align}\n",
    "$$\n",
    "\n",
    "$$ relevance = \\lambda P(w|T) + (1 - \\lambda) \\frac{P(w|T)}{P(w)}$$"
   ]
  },
  {
   "cell_type": "markdown",
   "metadata": {
    "slideshow": {
     "slide_type": "subslide"
    }
   },
   "source": [
    "<center><img src=../assets/unsupervised-models/ldavis_PCoA.png width=550 /></center>"
   ]
  },
  {
   "cell_type": "markdown",
   "metadata": {
    "slideshow": {
     "slide_type": "notes"
    }
   },
   "source": [
    "$$ \\mbox{spatial relations are meaningless} $$\n",
    "\n",
    "$$ \\mbox{relative sizes of } topics \\mbox{ hard to determine} $$\n",
    "\n",
    "$$ \\Pi r^2 $$"
   ]
  },
  {
   "cell_type": "code",
   "execution_count": 7,
   "metadata": {
    "ExecuteTime": {
     "end_time": "2017-06-23T18:01:45.029591Z",
     "start_time": "2017-06-23T18:01:44.985948Z"
    },
    "collapsed": true,
    "slideshow": {
     "slide_type": "skip"
    }
   },
   "outputs": [],
   "source": [
    "from math import sqrt, pi\n",
    "from matplotlib import pyplot as plt\n",
    "\n",
    "plt.figure(figsize=(1000/72, 700/72))\n",
    "\n",
    "r2_1 = sqrt(50 / pi)\n",
    "r2_2 = sqrt(25 / pi)\n",
    "r2_4 = sqrt(5 / pi)\n",
    "\n",
    "plt.scatter(-1, 0, s=r2_1 * 1000);\n",
    "plt.scatter(1, 0, s=r2_2 * 1000);\n",
    "plt.scatter(0, 0, s=r2_4 * 1000);\n",
    "plt.xlim(-3, 3);\n",
    "plt.text(0, .025, \"What are the relative sizes of the circles?\\nx2? x10? x5?\", fontdict={'ha': 'center', 'size': 16})\n",
    "plt.axis('off');"
   ]
  },
  {
   "cell_type": "code",
   "execution_count": 6,
   "metadata": {
    "ExecuteTime": {
     "end_time": "2017-06-23T18:01:36.485676Z",
     "start_time": "2017-06-23T18:01:36.325308Z"
    },
    "slideshow": {
     "slide_type": "subslide"
    }
   },
   "outputs": [
    {
     "data": {
      "image/png": "[encoded data removed]",
      "text/plain": [
       "<matplotlib.figure.Figure at 0x7f9a79938080>"
      ]
     },
     "metadata": {},
     "output_type": "display_data"
    }
   ],
   "source": [
    "plt.show()"
   ]
  },
  {
   "cell_type": "code",
   "execution_count": 10,
   "metadata": {
    "ExecuteTime": {
     "end_time": "2017-06-23T18:02:25.185265Z",
     "start_time": "2017-06-23T18:02:25.135566Z"
    },
    "collapsed": true,
    "slideshow": {
     "slide_type": "skip"
    }
   },
   "outputs": [],
   "source": [
    "from math import sqrt, pi\n",
    "from matplotlib import pyplot as plt\n",
    "\n",
    "plt.figure(figsize=(1000/72, 700/72))\n",
    "\n",
    "r2_1 = sqrt(50 / pi)\n",
    "r2_2 = sqrt(25 / pi)\n",
    "r2_3 = sqrt(12.5 / pi)\n",
    "r2_4 = sqrt(5 / pi)\n",
    "\n",
    "plt.scatter(-1, 0, s=r2_1 * 1000);\n",
    "plt.scatter(1, 0, s=r2_2 * 1000);\n",
    "plt.scatter(0, 0, s=r2_4 * 1000);\n",
    "plt.xlim(-3, 3);\n",
    "\n",
    "fontdict = {'ha': 'center', 'size': 16}\n",
    "plt.text(-1, .012, '$\\Pi r^2 = 50$', fontdict={'ha': 'center', 'size': 16})\n",
    "plt.text(1, .012, '$\\Pi r^2 = 25$', fontdict={'ha': 'center', 'size': 16})\n",
    "plt.text(0, -.012, '$\\Pi r^2 = 5$', fontdict={'ha': 'center', 'size': 16})\n",
    "plt.axis('off');"
   ]
  },
  {
   "cell_type": "code",
   "execution_count": 11,
   "metadata": {
    "ExecuteTime": {
     "end_time": "2017-06-23T18:02:26.074107Z",
     "start_time": "2017-06-23T18:02:25.848872Z"
    },
    "scrolled": false,
    "slideshow": {
     "slide_type": "subslide"
    }
   },
   "outputs": [
    {
     "data": {
      "image/png": "[encoded data removed]",
      "text/plain": [
       "<matplotlib.figure.Figure at 0x7f9a78025438>"
      ]
     },
     "metadata": {},
     "output_type": "display_data"
    }
   ],
   "source": [
    "plt.show()"
   ]
  },
  {
   "cell_type": "markdown",
   "metadata": {
    "slideshow": {
     "slide_type": "subslide"
    }
   },
   "source": [
    "<center><img src=../assets/unsupervised-models/ldavis_PCoAMMDS.png width=1000 /></center>"
   ]
  },
  {
   "cell_type": "markdown",
   "metadata": {
    "slideshow": {
     "slide_type": "notes"
    }
   },
   "source": [
    "http://nbviewer.jupyter.org/github/bmabey/pyLDAvis/blob/master/notebooks/pyLDAvis_overview.ipynb\n",
    "\n",
    "http://distill.pub/2016/misread-tsne/"
   ]
  },
  {
   "cell_type": "markdown",
   "metadata": {
    "slideshow": {
     "slide_type": "slide"
    }
   },
   "source": [
    "# Intrinsic Evaluation\n",
    "\n",
    "- Perplexity (is a bad measure)\n",
    "- Chang et. al *Reading Tea Leaves: How Humans Interpret Topic Models* NIPS 2009\n",
    "\n",
    "---\n",
    "\n",
    "$$\n",
    "\\begin{align}\n",
    "\\hat H &= \\frac{1}{m} \\log_2 P(w_1, w_2, \\ldots, w_m)\\\\\\\\\n",
    "PP &= 2^{\\hat H}\n",
    "\\end{align}\n",
    "$$"
   ]
  },
  {
   "cell_type": "markdown",
   "metadata": {
    "slideshow": {
     "slide_type": "notes"
    }
   },
   "source": [
    "TOP     : Average per-word perplexity on a held-out data set 6.8232317023056881\n",
    "\n",
    "BOTTOM  : Average per-word perplexity on a held-out data set 2.9826277259324319"
   ]
  },
  {
   "cell_type": "markdown",
   "metadata": {
    "slideshow": {
     "slide_type": "subslide"
    }
   },
   "source": [
    "# Topic Coherence\n",
    "\n",
    "- Newman et. al *Automatic Evaluation of topic coherence*, HLT 2010\n",
    "- Mimno et.al *Optimizing semantic coherence in topic models* EMNLP 2011\n",
    "- Aletras et. al *Evaluating topic coherence using distributional semantics* IWCS 2013\n",
    "- Röder et. al *Exploring the Space of Topic Coherence Measures*, WSDM 2015\n",
    "\n",
    "---\n",
    "\n",
    "https://rare-technologies.com/what-is-topic-coherence/\n",
    "\n",
    "---\n",
    "\n",
    "![](../assets/unsupervised-models/topic-coherence-model.png)"
   ]
  },
  {
   "cell_type": "markdown",
   "metadata": {
    "slideshow": {
     "slide_type": "notes"
    }
   },
   "source": [
    "1. segmentation\n",
    "2. probability\n",
    "3. confirmation\n",
    "4. aggregate\n",
    "\n",
    "NOT DEPICTED HERE: a labelled corpus with human judgements on what is coherence\n",
    "\n",
    "http://qpleple.com/topic-coherence-to-evaluate-topic-models/\n",
    "\n",
    "https://nbviewer.jupyter.org/github/dsquareindia/gensim/blob/280375fe14adea67ce6384ba7eabf362b05e6029/docs/notebooks/topic_coherence_tutorial.ipynb\n",
    "\n",
    "Data and tools:\n",
    "https://github.com/AKSW/Palmetto"
   ]
  },
  {
   "cell_type": "markdown",
   "metadata": {
    "slideshow": {
     "slide_type": "notes"
    }
   },
   "source": [
    "\n",
    "Intrinsic evaluation measures"
   ]
  },
  {
   "cell_type": "markdown",
   "metadata": {
    "slideshow": {
     "slide_type": "skip"
    }
   },
   "source": [
    "# Segmentation\n",
    "\n",
    "- pairs of single words `{(game), (ball)}, {(team), (ball)}`\n",
    "- pairs of pairs of words `{(game, ball), (team, ball)}`"
   ]
  },
  {
   "cell_type": "markdown",
   "metadata": {
    "slideshow": {
     "slide_type": "skip"
    }
   },
   "source": [
    "# Confirmation Measure\n",
    "\n",
    "### Measure the association of term pairs from an \"external\" corpus\n",
    "\n",
    "- probably want the reference corpus to have similar statistics to your source corpus\n",
    "- are you trying to model general concepts, or concepts specific to a field?\n",
    "    - medical text does not look like legal text\n",
    "    - wikipedia does not look like legal text"
   ]
  },
  {
   "cell_type": "markdown",
   "metadata": {
    "slideshow": {
     "slide_type": "skip"
    }
   },
   "source": [
    "$$ C_{UCI} = \\frac{2}{N * (N-1)} \\sum_{i-1}^{N-1} \\sum_{j = i+1}^{N} PMI(w_i, w_j) $$\n",
    "\n",
    "where PMI is\n",
    "\n",
    "$$ PMI(w_i, w_j) = \\log \\frac{P(w_i, w_j) + \\epsilon}{P(w_i)P(w_j)}$$"
   ]
  },
  {
   "cell_type": "markdown",
   "metadata": {
    "slideshow": {
     "slide_type": "skip"
    }
   },
   "source": [
    "# Probability Calculation\n",
    "\n",
    "$$ P(w_i, w_j) =  \\frac{\\mbox{Number of documents that contain words $w_i$ and $w_j$}}{\\mbox{total number of documents}} $$\n",
    "\n",
    "$$ P(w_i) =  \\frac{\\mbox{Number of documents that contain $w_i$}}{\\mbox{total number of documents}} $$\n",
    "\n",
    "$$ P(w_j) =  \\frac{\\mbox{Number of documents that contain $w_j$}}{\\mbox{total number of documents}} $$"
   ]
  },
  {
   "cell_type": "markdown",
   "metadata": {
    "slideshow": {
     "slide_type": "skip"
    }
   },
   "source": [
    "probablility theory says that **if** two events $w_i$ and $w_j$ are independent then\n",
    "\n",
    "$$ P(w_i, w_j) = P(w_i)P(w_j) $$"
   ]
  },
  {
   "cell_type": "markdown",
   "metadata": {
    "slideshow": {
     "slide_type": "subslide"
    }
   },
   "source": [
    "# Topics\n",
    "\n",
    "<table border=\"1\" class=\"dataframe\">  <thead>    <tr style=\"text-align: right;\">      <th></th>      <th>5</th>      <th>6</th>      <th>7</th>      <th>8</th>      <th>9</th>      <th>10</th>      <th>11</th>      <th>12</th>    </tr>  </thead>  <tbody>    <tr>      <th>0</th>      <td>court</td>      <td>refugee</td>      <td>trump</td>      <td>pipeline</td>      <td>water</td>      <td>trump</td>      <td>clinton</td>      <td>people</td>    </tr>    <tr>      <th>1</th>      <td>judge</td>      <td>european</td>      <td>hillary</td>      <td>people</td>      <td>law</td>      <td>woman</td>      <td>hillary</td>      <td>year</td>    </tr>    <tr>      <th>2</th>      <td>british</td>      <td>europe</td>      <td>clinton</td>      <td>native</td>      <td>police</td>      <td>get</td>      <td>campaign</td>      <td>when</td>    </tr>    <tr>      <th>3</th>      <td>case</td>      <td>migrant</td>      <td>donald</td>      <td>land</td>      <td>use</td>      <td>election</td>      <td>trump</td>      <td>time</td>    </tr>    <tr>      <th>4</th>      <td>which</td>      <td>eu</td>      <td>election</td>      <td>access</td>      <td>state</td>      <td>clinton</td>      <td>foundation</td>      <td>there</td>    </tr>    <tr>      <th>5</th>      <td>federal</td>      <td>other</td>      <td>white</td>      <td>dakota</td>      <td>obama</td>      <td>hillary</td>      <td>bill</td>      <td>make</td>    </tr>    <tr>      <th>6</th>      <td>also</td>      <td>people</td>      <td>show</td>      <td>which</td>      <td>dakota</td>      <td>man</td>      <td>pay</td>      <td>new</td>    </tr>    <tr>      <th>7</th>      <td>charge</td>      <td>french</td>      <td>go</td>      <td>other</td>      <td>pipeline</td>      <td>’</td>      <td>president</td>      <td>world</td>    </tr>    <tr>      <th>8</th>      <td>trial</td>      <td>which</td>      <td>new</td>      <td>year</td>      <td>protester</td>      <td>go</td>      <td>news</td>      <td>now</td>    </tr>    <tr>      <th>9</th>      <td>rape</td>      <td>child</td>      <td>people</td>      <td>rock</td>      <td>government</td>      <td>would</td>      <td>wikileaks</td>      <td>take</td>    </tr>    <tr>      <th>10</th>      <td>jury</td>      <td>africa</td>      <td>campaign</td>      <td>there</td>      <td>people</td>      <td>just</td>      <td>money</td>      <td>would</td>    </tr>    <tr>      <th>11</th>      <td>aoun</td>      <td>camp</td>      <td>news</td>      <td>take</td>      <td>would</td>      <td>donald</td>      <td>also</td>      <td>which</td>    </tr>  </tbody></table>"
   ]
  },
  {
   "cell_type": "markdown",
   "metadata": {
    "slideshow": {
     "slide_type": "subslide"
    }
   },
   "source": [
    "# Segmentation\n",
    "\n",
    "<table border=\"1\" class=\"dataframe\">  <thead>    <tr style=\"text-align: right;\">      <th></th>      <th>0</th>      <th>1</th>      <th>2</th>      <th>3</th>      <th>4</th>      <th>5</th>      <th>6</th>      <th>7</th>      <th>8</th>      <th>9</th>      <th>10</th>      <th>11</th>    </tr>  </thead>  <tbody>    <tr>      <th>8</th>      <td>pipeline</td>      <td>people</td>      <td>native</td>      <td>land</td>      <td>access</td>      <td>dakota</td>      <td>which</td>      <td>other</td>      <td>year</td>      <td>rock</td>      <td>there</td>      <td>take</td>    </tr>  </tbody></table>\n",
    "\n",
    "---\n",
    "\n",
    "$$\\mbox{TOPIC 8} \\rightarrow \\{pipeline, people\\} \\{pipeline, native\\} \\{people, native\\} \\{native, rock\\} \\ldots$$"
   ]
  },
  {
   "cell_type": "markdown",
   "metadata": {
    "slideshow": {
     "slide_type": "fragment"
    }
   },
   "source": [
    "---\n",
    "\n",
    "$$\\mbox{TOPIC 8} \\rightarrow \\{(pipeline, people), (native, rock)\\} \\ldots$$"
   ]
  },
  {
   "cell_type": "markdown",
   "metadata": {
    "slideshow": {
     "slide_type": "subslide"
    }
   },
   "source": [
    "# Confirmation Measure\n",
    "\n",
    "Using a held out reference corpus compute\n",
    "\n",
    "$$ C_{UCI} = \\frac{2}{N * (N-1)} \\sum_{i-1}^{N-1} \\sum_{j = i+1}^{N} PMI(w_i, w_j) $$\n",
    "\n",
    "---\n",
    "\n",
    "$$ \\mbox{where }PMI(w_i, w_j) = \\log \\frac{P(w_i, w_j) + \\epsilon}{P(w_i)P(w_j)}$$"
   ]
  },
  {
   "cell_type": "markdown",
   "metadata": {
    "slideshow": {
     "slide_type": "subslide"
    }
   },
   "source": [
    "# Probability Calculation\n",
    "\n",
    "$$\n",
    "\\begin{align}\n",
    "\\\\\n",
    "P(w_i, w_j) &=  \\frac{\\mbox{Number of documents that contain words $w_i$ and $w_j$}}{\\mbox{total number of documents}}\\\\\n",
    "\\\\\n",
    "P(w_i) &=  \\frac{\\mbox{Number of documents that contain $w_i$}}{\\mbox{total number of documents}}\\\\\n",
    "\\\\\n",
    "P(w_j) &=  \\frac{\\mbox{Number of documents that contain $w_j$}}{\\mbox{total number of documents}}\n",
    "\\end{align}\n",
    "$$"
   ]
  },
  {
   "cell_type": "markdown",
   "metadata": {
    "ExecuteTime": {
     "end_time": "2017-06-20T08:16:28.775200Z",
     "start_time": "2017-06-20T08:16:28.771984Z"
    },
    "slideshow": {
     "slide_type": "subslide"
    }
   },
   "source": [
    "$$ coherence(\\Phi; segmentation, probability, C_V, aggregation) = 0.767 $$"
   ]
  },
  {
   "cell_type": "markdown",
   "metadata": {
    "slideshow": {
     "slide_type": "notes"
    }
   },
   "source": [
    "The topic coherence model combines a number of papers into one framework that allows evaluating the *coherence* of topics inferred by a topic model. In the context of this work coherence is defined as the mutual support of sets of facts - facts are represented by the top N *words* from a topic.\n",
    "\n",
    "1. create tuples from the top N words in a topic\n",
    "    - pairs of single words `{(game), (ball)}, {(team), (ball)}`\n",
    "    - pairs of pairs of words `{(game, ball)}, {(team, ball)}`\n",
    "    - ...\n",
    "\n",
    "2. measure the probability of those from a reference corpus\n",
    "    - document probability\n",
    "    - word probability\n",
    "    - ...\n",
    "    \n",
    "3. calculate a *confirmation measure* per tuple \n",
    "    - UCI normalised sum over PMI values\n",
    "    - UMASS normalised sum over conditional word probabilities (preserves word order)\n",
    "    - C_v ???\n",
    "    - ...\n",
    "\n",
    "4. aggregate over all the tuples *mean*\n",
    "\n",
    "There's no sense of how much the values vary within the set of pairs extracted!"
   ]
  },
  {
   "cell_type": "markdown",
   "metadata": {
    "ExecuteTime": {
     "end_time": "2017-06-20T08:16:28.775200Z",
     "start_time": "2017-06-20T08:16:28.771984Z"
    },
    "slideshow": {
     "slide_type": "fragment"
    }
   },
   "source": [
    "$$ coherence(\\Phi; segmentation, probability, C_{UCI}, aggregation) = 0.616 $$"
   ]
  },
  {
   "cell_type": "markdown",
   "metadata": {
    "ExecuteTime": {
     "end_time": "2017-06-20T08:16:28.775200Z",
     "start_time": "2017-06-20T08:16:28.771984Z"
    },
    "slideshow": {
     "slide_type": "fragment"
    }
   },
   "source": [
    "$$ coherence(\\Phi; segmentation, probability, C_{UMass}, aggregation) = -1.461 $$"
   ]
  },
  {
   "cell_type": "markdown",
   "metadata": {
    "slideshow": {
     "slide_type": "fragment"
    }
   },
   "source": [
    "----\n",
    "\n",
    "$$ \\mbox{1. mean over a bunch of values with no estimate of variance} $$"
   ]
  },
  {
   "cell_type": "markdown",
   "metadata": {
    "slideshow": {
     "slide_type": "fragment"
    }
   },
   "source": [
    "$$ \\mbox{2. different values are not comparable} $$"
   ]
  },
  {
   "cell_type": "markdown",
   "metadata": {
    "slideshow": {
     "slide_type": "fragment"
    }
   },
   "source": [
    "$$ \\mbox{3. need to be very careful what the reference corpus is} $$"
   ]
  },
  {
   "cell_type": "markdown",
   "metadata": {
    "slideshow": {
     "slide_type": "skip"
    }
   },
   "source": [
    "$$ \\mbox{4. how meaningful are pairs of words semantically} $$"
   ]
  },
  {
   "cell_type": "markdown",
   "metadata": {
    "slideshow": {
     "slide_type": "slide"
    }
   },
   "source": [
    "# Human Judgement Based Methods\n",
    "\n",
    "- Chang et. al *Reading Tea Leaves: How Humans Interpret Topic Models* NIPS 2009\n",
    "- Lau et. al *Machine Reading Tea Leaves: Automatically Evaluating Topic Coherence and Topic Model Quality* EACL 2014"
   ]
  },
  {
   "cell_type": "markdown",
   "metadata": {
    "slideshow": {
     "slide_type": "fragment"
    }
   },
   "source": [
    "### Word Intrusion\n",
    "\n",
    "`{dog, cat, horse, apple, pig, cow}`"
   ]
  },
  {
   "cell_type": "markdown",
   "metadata": {
    "slideshow": {
     "slide_type": "fragment"
    }
   },
   "source": [
    "`{cat, airport, yarn, horse, security, tomorrow}`"
   ]
  },
  {
   "cell_type": "markdown",
   "metadata": {
    "slideshow": {
     "slide_type": "subslide"
    }
   },
   "source": [
    "### Topic Intrusion\n",
    "\n",
    "\n",
    "#### TRUMP SUPPORTER GOT NUTS On MSNBC Reporter Covering Anti-Trump Rioters [Video]\n",
    "\n",
    "Go to Article A Trump supporter wearing a Trump/Pence t-shirt let it fly on a reporter from MSNBC because of his one sided reporting and the demonizing of Trump. This is one brave woman! New Yorkers have had enough ...\n",
    "\n",
    "<center>\n",
    "<img src=../assets/unsupervised-models/topic-dist.png />\n",
    "</center>"
   ]
  },
  {
   "cell_type": "markdown",
   "metadata": {
    "slideshow": {
     "slide_type": "subslide"
    }
   },
   "source": [
    "### Topic Intrusion\n",
    "\n",
    "\n",
    "#### TRUMP SUPPORTER GOT NUTS On MSNBC Reporter Covering Anti-Trump Rioters [Video]\n",
    "\n",
    "Go to Article A Trump supporter wearing a Trump/Pence t-shirt let it fly on a reporter from MSNBC because of his one sided reporting and the demonizing of Trump. This is one brave woman! New Yorkers have had enough ...\n",
    "\n",
    "<table border=\"1\" class=\"dataframe\">   <thead>     <tr style=\"text-align: right;\">       <th></th>       <th>0</th>       <th>1</th>       <th>2</th>       <th>3</th>       <th>4</th>       <th>5</th>       <th>6</th>       <th>7</th>     </tr>   </thead>   <tbody>     <tr>       <th>33</th>       <td>clinton</td>       <td>hillary</td>       <td>campaign</td>       <td>trump</td>       <td>foundation</td>       <td>bill</td>       <td>pay</td>       <td>president</td>     </tr>     <tr>       <th>17</th>       <td>god</td>       <td>church</td>       <td>people</td>       <td>abortion</td>       <td>christian</td>       <td>marriage</td>       <td>father</td>       <td>christians</td>     </tr>     <tr>       <th>1</th>       <td>syria</td>       <td>war</td>       <td>al</td>       <td>us</td>       <td>syrian</td>       <td>isis</td>       <td>terrorist</td>       <td>attack</td>     </tr>   </tbody> </table>"
   ]
  },
  {
   "cell_type": "markdown",
   "metadata": {
    "slideshow": {
     "slide_type": "slide"
    }
   },
   "source": [
    "# Summary\n",
    "\n",
    "- Topic models are difficult to evaluate\n",
    "\n",
    "---\n",
    "\n",
    "- qualitative evaluation is labour intensive and often subjective\n",
    "- quantitative analysis relies on\n",
    "    - intrinsic methods that do not always produce easy to understand results\n",
    "    - inter-annotator agreement on what is understandable\n",
    "    - sets of words that capture the semantics of a category\n",
    "\n",
    "----\n",
    "\n",
    "- open source software is available\n",
    "\n",
    "---\n",
    "\n",
    "- a universally \"*good*\" model does not exist!\n",
    "    - all depends on what you want to do with the model"
   ]
  },
  {
   "cell_type": "markdown",
   "metadata": {
    "slideshow": {
     "slide_type": "slide"
    }
   },
   "source": [
    "# What are Words?"
   ]
  },
  {
   "cell_type": "code",
   "execution_count": 157,
   "metadata": {
    "ExecuteTime": {
     "end_time": "2017-06-23T15:50:02.118833Z",
     "start_time": "2017-06-23T15:50:01.960758Z"
    },
    "slideshow": {
     "slide_type": "subslide"
    }
   },
   "outputs": [
    {
     "data": {
      "image/jpeg": "[encoded data removed]",
      "text/html": [
       "\n",
       "        <iframe\n",
       "            width=\"1000\"\n",
       "            height=\"600\"\n",
       "            src=\"https://www.youtube.com/embed/y6Bnevx7vco?start=355\"\n",
       "            frameborder=\"0\"\n",
       "            allowfullscreen\n",
       "        ></iframe>\n",
       "        "
      ],
      "text/plain": [
       "<IPython.lib.display.YouTubeVideo at 0x7f671e61c5f8>"
      ]
     },
     "execution_count": 157,
     "metadata": {},
     "output_type": "execute_result"
    }
   ],
   "source": [
    "import IPython\n",
    "from datetime import timedelta\n",
    "\n",
    "IPython.display.YouTubeVideo('y6Bnevx7vco', width=1000, height=600, start=int(timedelta(minutes=5, seconds=55).total_seconds()))"
   ]
  },
  {
   "cell_type": "markdown",
   "metadata": {
    "slideshow": {
     "slide_type": "subslide"
    }
   },
   "source": [
    "# What are Words?"
   ]
  },
  {
   "cell_type": "markdown",
   "metadata": {
    "slideshow": {
     "slide_type": "fragment"
    }
   },
   "source": [
    "<center>\n",
    "{cat, dog, pet, rabbit, horse}\n",
    "</center>"
   ]
  },
  {
   "cell_type": "markdown",
   "metadata": {
    "slideshow": {
     "slide_type": "fragment"
    }
   },
   "source": [
    "<center>\n",
    "{cat, dog, pet, snowball, whiskers}\n",
    "</center>"
   ]
  },
  {
   "cell_type": "markdown",
   "metadata": {
    "slideshow": {
     "slide_type": "fragment"
    }
   },
   "source": [
    "<center>\n",
    "{cat (people), dog (people)}\n",
    "</center>"
   ]
  },
  {
   "cell_type": "markdown",
   "metadata": {
    "slideshow": {
     "slide_type": "slide"
    }
   },
   "source": [
    "# Evaluating of Topic Models\n",
    "\n",
    "## Matti Lyra\n",
    "## @mattilyra\n",
    "## github.com/mattilyra \n"
   ]
  },
  {
   "cell_type": "markdown",
   "metadata": {
    "slideshow": {
     "slide_type": "slide"
    }
   },
   "source": [
    "# Perplexity\n",
    "\n",
    "<table border=\"1\" class=\"dataframe\">  <thead>    <tr style=\"text-align: right;\">      <th>Topic ID</th>      <th>0</th>      <th>1</th>      <th>2</th>      <th>3</th>      <th>4</th>      <th>5</th>      <th>6</th>      <th>7</th>      <th>8</th>      <th>9</th>      <th>10</th>      <th>11</th>      <th>12</th>      <th>13</th>      <th>14</th>    </tr>    <tr>      <th>model</th>      <th></th>      <th></th>      <th></th>      <th></th>      <th></th>      <th></th>      <th></th>      <th></th>      <th></th>      <th></th>      <th></th>      <th></th>      <th></th>      <th></th>      <th></th>    </tr>  </thead>  <tbody>    <tr>      <th>1</th>      <td>get</td>      <td>i'll</td>      <td>light</td>      <td>at</td>      <td>he</td>      <td>come</td>      <td>got</td>      <td>go</td>      <td>was</td>      <td>blues</td>      <td>will</td>      <td>oh</td>      <td>dance</td>      <td>over</td>      <td>she</td>    </tr>    <tr>      <th>1</th>      <td>gonna</td>      <td>never</td>      <td>night</td>      <td>down</td>      <td>his</td>      <td>me,</td>      <td>they</td>      <td>we're</td>      <td>now</td>      <td>are</td>      <td>let</td>      <td>do</td>      <td>(i</td>      <td>been</td>      <td>her</td>    </tr>    <tr>      <th>1</th>      <td>yeah,</td>      <td>see</td>      <td>shine</td>      <td>old</td>      <td>him</td>      <td>better</td>      <td>up</td>      <td>hey</td>      <td>never</td>      <td>as</td>      <td>heart</td>      <td>want</td>      <td>back</td>      <td>oh,</td>      <td>she's</td>    </tr>    <tr>      <th>1</th>      <td>yeah</td>      <td>you're</td>      <td>sun</td>      <td>out</td>      <td>man</td>      <td>if</td>      <td>ain't</td>      <td>-</td>      <td>have</td>      <td>day</td>      <td>our</td>      <td>baby</td>      <td>ah</td>      <td>long</td>      <td>girl</td>    </tr>    <tr>      <th>1</th>      <td>wanna</td>      <td>way</td>      <td>tonight</td>      <td>run</td>      <td>he's</td>      <td>do</td>      <td>out</td>      <td>let's</td>      <td>were</td>      <td>good</td>      <td>are</td>      <td>can't</td>      <td>bring</td>      <td>gone</td>      <td>woman</td>    </tr>    <tr>      <th>NaN</th>      <td></td>      <td></td>      <td></td>      <td></td>      <td></td>      <td></td>      <td></td>      <td></td>      <td></td>      <td></td>      <td></td>      <td></td>      <td></td>      <td></td>      <td></td>    </tr>    <tr>      <th>2</th>      <td>oh</td>      <td>want</td>      <td>get</td>      <td>out</td>      <td>she</td>      <td>down</td>      <td>light</td>      <td>am</td>      <td>wanna</td>      <td>blues</td>      <td>if</td>      <td>are</td>      <td>hey,</td>      <td>he</td>      <td>was</td>    </tr>    <tr>      <th>2</th>      <td>baby</td>      <td>do</td>      <td>ya</td>      <td>gloom</td>      <td>her</td>      <td>look</td>      <td>our</td>      <td>thro'</td>      <td>up</td>      <td>old</td>      <td>you,</td>      <td>they</td>      <td>ah</td>      <td>his</td>      <td>now</td>    </tr>    <tr>      <th>2</th>      <td>gonna</td>      <td>if</td>      <td>ain't</td>      <td>off</td>      <td>she's</td>      <td>down,</td>      <td>will</td>      <td>lord</td>      <td>get</td>      <td>new</td>      <td>would</td>      <td>where</td>      <td>ha</td>      <td>him</td>      <td>out</td>    </tr>    <tr>      <th>2</th>      <td>oh,</td>      <td>can't</td>      <td>got</td>      <td>black</td>      <td>girl</td>      <td>at</td>      <td>as</td>      <td>run</td>      <td>la</td>      <td>-</td>      <td>could</td>      <td>home</td>      <td>ah,</td>      <td>man</td>      <td>one</td>    </tr>    <tr>      <th>2</th>      <td>yeah</td>      <td>i'll</td>      <td>na</td>      <td>them</td>      <td>got</td>      <td>stop</td>      <td>rain</td>      <td>jesus</td>      <td>let's</td>      <td>hey</td>      <td>me,</td>      <td>people</td>      <td>my,</td>      <td>he's</td>      <td>at</td>    </tr>  </tbody></table>\n",
    "\n",
    "\n",
    "http://qpleple.com/perplexity-to-evaluate-topic-models/"
   ]
  }
 ],
 "metadata": {
  "celltoolbar": "Slideshow",
  "kernelspec": {
   "display_name": "Python 3",
   "language": "python",
   "name": "python3"
  },
  "language_info": {
   "codemirror_mode": {
    "name": "ipython",
    "version": 3
   },
   "file_extension": ".py",
   "mimetype": "text/x-python",
   "name": "python",
   "nbconvert_exporter": "python",
   "pygments_lexer": "ipython3",
   "version": "3.6.1"
  }
 },
 "nbformat": 4,
 "nbformat_minor": 2
}
